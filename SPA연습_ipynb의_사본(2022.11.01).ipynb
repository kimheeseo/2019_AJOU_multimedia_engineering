{
  "nbformat": 4,
  "nbformat_minor": 0,
  "metadata": {
    "colab": {
      "provenance": [],
      "collapsed_sections": [],
      "include_colab_link": true
    },
    "kernelspec": {
      "name": "python3",
      "display_name": "Python 3"
    },
    "language_info": {
      "name": "python"
    },
    "accelerator": "GPU",
    "gpuClass": "standard"
  },
  "cells": [
    {
      "cell_type": "markdown",
      "metadata": {
        "id": "view-in-github",
        "colab_type": "text"
      },
      "source": [
        "<a href=\"https://colab.research.google.com/github/kimheeseo/2019_AJOU_multimedia_engineering/blob/main/SPA%EC%97%B0%EC%8A%B5_ipynb%EC%9D%98_%EC%82%AC%EB%B3%B8(2022.11.01).ipynb\" target=\"_parent\"><img src=\"https://colab.research.google.com/assets/colab-badge.svg\" alt=\"Open In Colab\"/></a>"
      ]
    },
    {
      "cell_type": "code",
      "execution_count": null,
      "metadata": {
        "id": "yE3wE5TLe-Pb"
      },
      "outputs": [],
      "source": [
        "from google.colab import drive"
      ]
    },
    {
      "cell_type": "code",
      "source": [
        "drive.mount('/content/drive/')"
      ],
      "metadata": {
        "colab": {
          "base_uri": "https://localhost:8080/"
        },
        "id": "8J4_kNa1km4_",
        "outputId": "a9cc2b6c-17f8-41b7-9623-4878e2f81790"
      },
      "execution_count": null,
      "outputs": [
        {
          "output_type": "stream",
          "name": "stdout",
          "text": [
            "Drive already mounted at /content/drive/; to attempt to forcibly remount, call drive.mount(\"/content/drive/\", force_remount=True).\n"
          ]
        }
      ]
    },
    {
      "cell_type": "code",
      "source": [
        "from scipy import io\n",
        "parity=io.loadmat('/content/parity.mat')\n",
        "#parity=io.loadmat('/content/pari.mat')"
      ],
      "metadata": {
        "id": "6lq9WcyLM3Zr"
      },
      "execution_count": null,
      "outputs": []
    },
    {
      "cell_type": "code",
      "source": [
        "parity"
      ],
      "metadata": {
        "colab": {
          "base_uri": "https://localhost:8080/"
        },
        "id": "9bgwaoKKavll",
        "outputId": "97db73d4-d136-4548-a741-0ab1d58e31cd"
      },
      "execution_count": null,
      "outputs": [
        {
          "output_type": "execute_result",
          "data": {
            "text/plain": [
              "{'__header__': b'MATLAB 5.0 MAT-file, Platform: PCWIN64, Created on: Tue Nov  1 17:23:14 2022',\n",
              " '__version__': '1.0',\n",
              " '__globals__': [],\n",
              " 'a': array([[1, 2, 3]], dtype=uint8)}"
            ]
          },
          "metadata": {},
          "execution_count": 345
        }
      ]
    },
    {
      "cell_type": "code",
      "source": [
        "print('parity type',type(parity))\n",
        "parity2=parity['a'] #parity 위치\n",
        "parity2=parity2-1\n",
        "print('parity 위치', parity2)"
      ],
      "metadata": {
        "colab": {
          "base_uri": "https://localhost:8080/"
        },
        "id": "HGSg7AgDb7GL",
        "outputId": "2e015eb2-3a1f-44c8-b21c-55084df9df87"
      },
      "execution_count": null,
      "outputs": [
        {
          "output_type": "stream",
          "name": "stdout",
          "text": [
            "parity type <class 'dict'>\n",
            "parity 위치 [[0 1 2]]\n"
          ]
        }
      ]
    },
    {
      "cell_type": "code",
      "source": [
        "information=io.loadmat('/content/information.mat')\n",
        "#information=io.loadmat('/content/infor.mat')\n",
        "print(information)\n",
        "\n",
        "print('information type',type(information))\n",
        "information2=information['d'] # information 위치"
      ],
      "metadata": {
        "colab": {
          "base_uri": "https://localhost:8080/"
        },
        "id": "BWVBBg6zcfO8",
        "outputId": "a2cff10e-34ff-4297-8100-c4c12d99df86"
      },
      "execution_count": null,
      "outputs": [
        {
          "output_type": "stream",
          "name": "stdout",
          "text": [
            "{'__header__': b'MATLAB 5.0 MAT-file, Platform: PCWIN64, Created on: Tue Nov  1 17:22:42 2022', '__version__': '1.0', '__globals__': [], 'd': array([[4, 5, 6, 7, 8]], dtype=uint8)}\n",
            "information type <class 'dict'>\n"
          ]
        }
      ]
    },
    {
      "cell_type": "code",
      "source": [
        "information2=information2-1\n",
        "print('information 위치', information2)\n",
        "rank=3"
      ],
      "metadata": {
        "colab": {
          "base_uri": "https://localhost:8080/"
        },
        "id": "4VNJAyTdsYdU",
        "outputId": "c2f31293-d5f0-48f1-c981-66eacf8fb210"
      },
      "execution_count": null,
      "outputs": [
        {
          "output_type": "stream",
          "name": "stdout",
          "text": [
            "information 위치 [[3 4 5 6 7]]\n"
          ]
        }
      ]
    },
    {
      "cell_type": "code",
      "source": [
        "N=8\n",
        "import numpy as np\n",
        "codeword=np.zeros((N,1))\n",
        "codeword=codeword.reshape(codeword.shape[1],codeword.shape[0])\n",
        "codeword.shape"
      ],
      "metadata": {
        "colab": {
          "base_uri": "https://localhost:8080/"
        },
        "id": "kfiX43Car2A2",
        "outputId": "10958fef-e5e1-486c-f5e1-00162d40963b"
      },
      "execution_count": null,
      "outputs": [
        {
          "output_type": "execute_result",
          "data": {
            "text/plain": [
              "(1, 8)"
            ]
          },
          "metadata": {},
          "execution_count": 349
        }
      ]
    },
    {
      "cell_type": "code",
      "source": [
        "information2.shape"
      ],
      "metadata": {
        "colab": {
          "base_uri": "https://localhost:8080/"
        },
        "id": "eGK915zjtHaE",
        "outputId": "20e45740-ad9b-4778-eff6-05e36ab8328e"
      },
      "execution_count": null,
      "outputs": [
        {
          "output_type": "execute_result",
          "data": {
            "text/plain": [
              "(1, 5)"
            ]
          },
          "metadata": {},
          "execution_count": 350
        }
      ]
    },
    {
      "cell_type": "code",
      "source": [
        "parity2.shape"
      ],
      "metadata": {
        "colab": {
          "base_uri": "https://localhost:8080/"
        },
        "id": "7QLFlxL1xTrd",
        "outputId": "85003bbc-cc8a-4595-b4e8-650c069aa501"
      },
      "execution_count": null,
      "outputs": [
        {
          "output_type": "execute_result",
          "data": {
            "text/plain": [
              "(1, 3)"
            ]
          },
          "metadata": {},
          "execution_count": 351
        }
      ]
    },
    {
      "cell_type": "code",
      "source": [
        "codeword=np.array(codeword)\n",
        "codeword.shape"
      ],
      "metadata": {
        "id": "f3Jtog6Y2zu9",
        "colab": {
          "base_uri": "https://localhost:8080/"
        },
        "outputId": "593c5a9d-dd60-49b1-a7ee-c7b5c3d08efe"
      },
      "execution_count": null,
      "outputs": [
        {
          "output_type": "execute_result",
          "data": {
            "text/plain": [
              "(1, 8)"
            ]
          },
          "metadata": {},
          "execution_count": 352
        }
      ]
    },
    {
      "cell_type": "code",
      "source": [
        "parity2.shape[1]"
      ],
      "metadata": {
        "colab": {
          "base_uri": "https://localhost:8080/"
        },
        "id": "UE8QFPwr5tqT",
        "outputId": "dd45cd39-80fe-481c-a1e5-62d84710fff7"
      },
      "execution_count": null,
      "outputs": [
        {
          "output_type": "execute_result",
          "data": {
            "text/plain": [
              "3"
            ]
          },
          "metadata": {},
          "execution_count": 353
        }
      ]
    },
    {
      "cell_type": "code",
      "source": [
        "for i in range(0, parity2.shape[1]):\n",
        "  codeword[0,(parity2[0,i])-1]=1"
      ],
      "metadata": {
        "id": "SyKU7bygpuro"
      },
      "execution_count": null,
      "outputs": []
    },
    {
      "cell_type": "code",
      "source": [
        "codeword"
      ],
      "metadata": {
        "colab": {
          "base_uri": "https://localhost:8080/"
        },
        "id": "REPb2H8qBbCW",
        "outputId": "6158a1de-cb54-4172-a441-d9e840bd0de1"
      },
      "execution_count": null,
      "outputs": [
        {
          "output_type": "execute_result",
          "data": {
            "text/plain": [
              "array([[1., 1., 0., 0., 0., 0., 0., 1.]])"
            ]
          },
          "metadata": {},
          "execution_count": 355
        }
      ]
    },
    {
      "cell_type": "code",
      "source": [
        "import pandas as pd\n",
        "df = pd.DataFrame(codeword)"
      ],
      "metadata": {
        "id": "qbUIaCG63Kap"
      },
      "execution_count": null,
      "outputs": []
    },
    {
      "cell_type": "code",
      "source": [
        "parity2"
      ],
      "metadata": {
        "colab": {
          "base_uri": "https://localhost:8080/"
        },
        "id": "ve7SRgNk6g4m",
        "outputId": "8ad83df0-725a-480a-85e6-c41a5e982393"
      },
      "execution_count": null,
      "outputs": [
        {
          "output_type": "execute_result",
          "data": {
            "text/plain": [
              "array([[0, 1, 2]], dtype=uint8)"
            ]
          },
          "metadata": {},
          "execution_count": 357
        }
      ]
    },
    {
      "cell_type": "markdown",
      "source": [
        "**Parity Bit 위치에 1, Information Bit 위치에 0**"
      ],
      "metadata": {
        "id": "VWZ9SzNHCBEJ"
      }
    },
    {
      "cell_type": "code",
      "source": [
        "H = pd.read_csv('/content/H.CSV')\n",
        "H"
      ],
      "metadata": {
        "id": "cwFE9wDorCMG",
        "colab": {
          "base_uri": "https://localhost:8080/",
          "height": 175
        },
        "outputId": "a5346480-28e3-44dd-99b1-fb17c3c20fee"
      },
      "execution_count": null,
      "outputs": [
        {
          "output_type": "execute_result",
          "data": {
            "text/plain": [
              "   pcm  Unnamed: 1  Unnamed: 2  Unnamed: 3  Unnamed: 4  Unnamed: 5  \\\n",
              "0    0           1           0           1           1           0   \n",
              "1    1           1           1           0           0           1   \n",
              "2    0           0           1           0           0           1   \n",
              "3    1           0           0           1           1           0   \n",
              "\n",
              "   Unnamed: 6  Unnamed: 7  \n",
              "0           0           1  \n",
              "1           0           0  \n",
              "2           1           1  \n",
              "3           1           0  "
            ],
            "text/html": [
              "\n",
              "  <div id=\"df-7917d6b5-b81f-4378-b417-d0f98b9faaa3\">\n",
              "    <div class=\"colab-df-container\">\n",
              "      <div>\n",
              "<style scoped>\n",
              "    .dataframe tbody tr th:only-of-type {\n",
              "        vertical-align: middle;\n",
              "    }\n",
              "\n",
              "    .dataframe tbody tr th {\n",
              "        vertical-align: top;\n",
              "    }\n",
              "\n",
              "    .dataframe thead th {\n",
              "        text-align: right;\n",
              "    }\n",
              "</style>\n",
              "<table border=\"1\" class=\"dataframe\">\n",
              "  <thead>\n",
              "    <tr style=\"text-align: right;\">\n",
              "      <th></th>\n",
              "      <th>pcm</th>\n",
              "      <th>Unnamed: 1</th>\n",
              "      <th>Unnamed: 2</th>\n",
              "      <th>Unnamed: 3</th>\n",
              "      <th>Unnamed: 4</th>\n",
              "      <th>Unnamed: 5</th>\n",
              "      <th>Unnamed: 6</th>\n",
              "      <th>Unnamed: 7</th>\n",
              "    </tr>\n",
              "  </thead>\n",
              "  <tbody>\n",
              "    <tr>\n",
              "      <th>0</th>\n",
              "      <td>0</td>\n",
              "      <td>1</td>\n",
              "      <td>0</td>\n",
              "      <td>1</td>\n",
              "      <td>1</td>\n",
              "      <td>0</td>\n",
              "      <td>0</td>\n",
              "      <td>1</td>\n",
              "    </tr>\n",
              "    <tr>\n",
              "      <th>1</th>\n",
              "      <td>1</td>\n",
              "      <td>1</td>\n",
              "      <td>1</td>\n",
              "      <td>0</td>\n",
              "      <td>0</td>\n",
              "      <td>1</td>\n",
              "      <td>0</td>\n",
              "      <td>0</td>\n",
              "    </tr>\n",
              "    <tr>\n",
              "      <th>2</th>\n",
              "      <td>0</td>\n",
              "      <td>0</td>\n",
              "      <td>1</td>\n",
              "      <td>0</td>\n",
              "      <td>0</td>\n",
              "      <td>1</td>\n",
              "      <td>1</td>\n",
              "      <td>1</td>\n",
              "    </tr>\n",
              "    <tr>\n",
              "      <th>3</th>\n",
              "      <td>1</td>\n",
              "      <td>0</td>\n",
              "      <td>0</td>\n",
              "      <td>1</td>\n",
              "      <td>1</td>\n",
              "      <td>0</td>\n",
              "      <td>1</td>\n",
              "      <td>0</td>\n",
              "    </tr>\n",
              "  </tbody>\n",
              "</table>\n",
              "</div>\n",
              "      <button class=\"colab-df-convert\" onclick=\"convertToInteractive('df-7917d6b5-b81f-4378-b417-d0f98b9faaa3')\"\n",
              "              title=\"Convert this dataframe to an interactive table.\"\n",
              "              style=\"display:none;\">\n",
              "        \n",
              "  <svg xmlns=\"http://www.w3.org/2000/svg\" height=\"24px\"viewBox=\"0 0 24 24\"\n",
              "       width=\"24px\">\n",
              "    <path d=\"M0 0h24v24H0V0z\" fill=\"none\"/>\n",
              "    <path d=\"M18.56 5.44l.94 2.06.94-2.06 2.06-.94-2.06-.94-.94-2.06-.94 2.06-2.06.94zm-11 1L8.5 8.5l.94-2.06 2.06-.94-2.06-.94L8.5 2.5l-.94 2.06-2.06.94zm10 10l.94 2.06.94-2.06 2.06-.94-2.06-.94-.94-2.06-.94 2.06-2.06.94z\"/><path d=\"M17.41 7.96l-1.37-1.37c-.4-.4-.92-.59-1.43-.59-.52 0-1.04.2-1.43.59L10.3 9.45l-7.72 7.72c-.78.78-.78 2.05 0 2.83L4 21.41c.39.39.9.59 1.41.59.51 0 1.02-.2 1.41-.59l7.78-7.78 2.81-2.81c.8-.78.8-2.07 0-2.86zM5.41 20L4 18.59l7.72-7.72 1.47 1.35L5.41 20z\"/>\n",
              "  </svg>\n",
              "      </button>\n",
              "      \n",
              "  <style>\n",
              "    .colab-df-container {\n",
              "      display:flex;\n",
              "      flex-wrap:wrap;\n",
              "      gap: 12px;\n",
              "    }\n",
              "\n",
              "    .colab-df-convert {\n",
              "      background-color: #E8F0FE;\n",
              "      border: none;\n",
              "      border-radius: 50%;\n",
              "      cursor: pointer;\n",
              "      display: none;\n",
              "      fill: #1967D2;\n",
              "      height: 32px;\n",
              "      padding: 0 0 0 0;\n",
              "      width: 32px;\n",
              "    }\n",
              "\n",
              "    .colab-df-convert:hover {\n",
              "      background-color: #E2EBFA;\n",
              "      box-shadow: 0px 1px 2px rgba(60, 64, 67, 0.3), 0px 1px 3px 1px rgba(60, 64, 67, 0.15);\n",
              "      fill: #174EA6;\n",
              "    }\n",
              "\n",
              "    [theme=dark] .colab-df-convert {\n",
              "      background-color: #3B4455;\n",
              "      fill: #D2E3FC;\n",
              "    }\n",
              "\n",
              "    [theme=dark] .colab-df-convert:hover {\n",
              "      background-color: #434B5C;\n",
              "      box-shadow: 0px 1px 3px 1px rgba(0, 0, 0, 0.15);\n",
              "      filter: drop-shadow(0px 1px 2px rgba(0, 0, 0, 0.3));\n",
              "      fill: #FFFFFF;\n",
              "    }\n",
              "  </style>\n",
              "\n",
              "      <script>\n",
              "        const buttonEl =\n",
              "          document.querySelector('#df-7917d6b5-b81f-4378-b417-d0f98b9faaa3 button.colab-df-convert');\n",
              "        buttonEl.style.display =\n",
              "          google.colab.kernel.accessAllowed ? 'block' : 'none';\n",
              "\n",
              "        async function convertToInteractive(key) {\n",
              "          const element = document.querySelector('#df-7917d6b5-b81f-4378-b417-d0f98b9faaa3');\n",
              "          const dataTable =\n",
              "            await google.colab.kernel.invokeFunction('convertToInteractive',\n",
              "                                                     [key], {});\n",
              "          if (!dataTable) return;\n",
              "\n",
              "          const docLinkHtml = 'Like what you see? Visit the ' +\n",
              "            '<a target=\"_blank\" href=https://colab.research.google.com/notebooks/data_table.ipynb>data table notebook</a>'\n",
              "            + ' to learn more about interactive tables.';\n",
              "          element.innerHTML = '';\n",
              "          dataTable['output_type'] = 'display_data';\n",
              "          await google.colab.output.renderOutput(dataTable, element);\n",
              "          const docLink = document.createElement('div');\n",
              "          docLink.innerHTML = docLinkHtml;\n",
              "          element.appendChild(docLink);\n",
              "        }\n",
              "      </script>\n",
              "    </div>\n",
              "  </div>\n",
              "  "
            ]
          },
          "metadata": {},
          "execution_count": 358
        }
      ]
    },
    {
      "cell_type": "code",
      "source": [
        "sum(codeword)"
      ],
      "metadata": {
        "colab": {
          "base_uri": "https://localhost:8080/"
        },
        "id": "8OrDg0GqLzoP",
        "outputId": "770efabf-0023-4d74-e72c-0578ad1f5134"
      },
      "execution_count": null,
      "outputs": [
        {
          "output_type": "execute_result",
          "data": {
            "text/plain": [
              "array([1., 1., 0., 0., 0., 0., 0., 1.])"
            ]
          },
          "metadata": {},
          "execution_count": 359
        }
      ]
    },
    {
      "cell_type": "code",
      "source": [
        "codeword.shape"
      ],
      "metadata": {
        "colab": {
          "base_uri": "https://localhost:8080/"
        },
        "id": "3fFdW5f9Ds33",
        "outputId": "c188a126-db7c-4d2f-acdd-8917dc7a50d3"
      },
      "execution_count": null,
      "outputs": [
        {
          "output_type": "execute_result",
          "data": {
            "text/plain": [
              "(1, 8)"
            ]
          },
          "metadata": {},
          "execution_count": 360
        }
      ]
    },
    {
      "cell_type": "code",
      "source": [
        "codeword=np.zeros((1,N))\n",
        "codeword=codeword.reshape(codeword.shape[1],codeword.shape[0])\n",
        "H.shape"
      ],
      "metadata": {
        "colab": {
          "base_uri": "https://localhost:8080/"
        },
        "id": "pr8a6oydF25y",
        "outputId": "440783b7-1dd7-49f5-a11f-4d5d346afe60"
      },
      "execution_count": null,
      "outputs": [
        {
          "output_type": "execute_result",
          "data": {
            "text/plain": [
              "(4, 8)"
            ]
          },
          "metadata": {},
          "execution_count": 361
        }
      ]
    },
    {
      "cell_type": "markdown",
      "source": [
        "# **syndrome test**"
      ],
      "metadata": {
        "id": "IlZ5aNawKFlu"
      }
    },
    {
      "cell_type": "code",
      "source": [
        "syndrome=H.dot(codeword)%2\n",
        "syndrome"
      ],
      "metadata": {
        "colab": {
          "base_uri": "https://localhost:8080/",
          "height": 175
        },
        "id": "L6e83vdEq4i3",
        "outputId": "823aecec-1c4d-4e47-a950-153f4d3d8b25"
      },
      "execution_count": null,
      "outputs": [
        {
          "output_type": "execute_result",
          "data": {
            "text/plain": [
              "     0\n",
              "0  0.0\n",
              "1  0.0\n",
              "2  0.0\n",
              "3  0.0"
            ],
            "text/html": [
              "\n",
              "  <div id=\"df-4de33b51-a8a2-4fd7-b9e5-42046803c71a\">\n",
              "    <div class=\"colab-df-container\">\n",
              "      <div>\n",
              "<style scoped>\n",
              "    .dataframe tbody tr th:only-of-type {\n",
              "        vertical-align: middle;\n",
              "    }\n",
              "\n",
              "    .dataframe tbody tr th {\n",
              "        vertical-align: top;\n",
              "    }\n",
              "\n",
              "    .dataframe thead th {\n",
              "        text-align: right;\n",
              "    }\n",
              "</style>\n",
              "<table border=\"1\" class=\"dataframe\">\n",
              "  <thead>\n",
              "    <tr style=\"text-align: right;\">\n",
              "      <th></th>\n",
              "      <th>0</th>\n",
              "    </tr>\n",
              "  </thead>\n",
              "  <tbody>\n",
              "    <tr>\n",
              "      <th>0</th>\n",
              "      <td>0.0</td>\n",
              "    </tr>\n",
              "    <tr>\n",
              "      <th>1</th>\n",
              "      <td>0.0</td>\n",
              "    </tr>\n",
              "    <tr>\n",
              "      <th>2</th>\n",
              "      <td>0.0</td>\n",
              "    </tr>\n",
              "    <tr>\n",
              "      <th>3</th>\n",
              "      <td>0.0</td>\n",
              "    </tr>\n",
              "  </tbody>\n",
              "</table>\n",
              "</div>\n",
              "      <button class=\"colab-df-convert\" onclick=\"convertToInteractive('df-4de33b51-a8a2-4fd7-b9e5-42046803c71a')\"\n",
              "              title=\"Convert this dataframe to an interactive table.\"\n",
              "              style=\"display:none;\">\n",
              "        \n",
              "  <svg xmlns=\"http://www.w3.org/2000/svg\" height=\"24px\"viewBox=\"0 0 24 24\"\n",
              "       width=\"24px\">\n",
              "    <path d=\"M0 0h24v24H0V0z\" fill=\"none\"/>\n",
              "    <path d=\"M18.56 5.44l.94 2.06.94-2.06 2.06-.94-2.06-.94-.94-2.06-.94 2.06-2.06.94zm-11 1L8.5 8.5l.94-2.06 2.06-.94-2.06-.94L8.5 2.5l-.94 2.06-2.06.94zm10 10l.94 2.06.94-2.06 2.06-.94-2.06-.94-.94-2.06-.94 2.06-2.06.94z\"/><path d=\"M17.41 7.96l-1.37-1.37c-.4-.4-.92-.59-1.43-.59-.52 0-1.04.2-1.43.59L10.3 9.45l-7.72 7.72c-.78.78-.78 2.05 0 2.83L4 21.41c.39.39.9.59 1.41.59.51 0 1.02-.2 1.41-.59l7.78-7.78 2.81-2.81c.8-.78.8-2.07 0-2.86zM5.41 20L4 18.59l7.72-7.72 1.47 1.35L5.41 20z\"/>\n",
              "  </svg>\n",
              "      </button>\n",
              "      \n",
              "  <style>\n",
              "    .colab-df-container {\n",
              "      display:flex;\n",
              "      flex-wrap:wrap;\n",
              "      gap: 12px;\n",
              "    }\n",
              "\n",
              "    .colab-df-convert {\n",
              "      background-color: #E8F0FE;\n",
              "      border: none;\n",
              "      border-radius: 50%;\n",
              "      cursor: pointer;\n",
              "      display: none;\n",
              "      fill: #1967D2;\n",
              "      height: 32px;\n",
              "      padding: 0 0 0 0;\n",
              "      width: 32px;\n",
              "    }\n",
              "\n",
              "    .colab-df-convert:hover {\n",
              "      background-color: #E2EBFA;\n",
              "      box-shadow: 0px 1px 2px rgba(60, 64, 67, 0.3), 0px 1px 3px 1px rgba(60, 64, 67, 0.15);\n",
              "      fill: #174EA6;\n",
              "    }\n",
              "\n",
              "    [theme=dark] .colab-df-convert {\n",
              "      background-color: #3B4455;\n",
              "      fill: #D2E3FC;\n",
              "    }\n",
              "\n",
              "    [theme=dark] .colab-df-convert:hover {\n",
              "      background-color: #434B5C;\n",
              "      box-shadow: 0px 1px 3px 1px rgba(0, 0, 0, 0.15);\n",
              "      filter: drop-shadow(0px 1px 2px rgba(0, 0, 0, 0.3));\n",
              "      fill: #FFFFFF;\n",
              "    }\n",
              "  </style>\n",
              "\n",
              "      <script>\n",
              "        const buttonEl =\n",
              "          document.querySelector('#df-4de33b51-a8a2-4fd7-b9e5-42046803c71a button.colab-df-convert');\n",
              "        buttonEl.style.display =\n",
              "          google.colab.kernel.accessAllowed ? 'block' : 'none';\n",
              "\n",
              "        async function convertToInteractive(key) {\n",
              "          const element = document.querySelector('#df-4de33b51-a8a2-4fd7-b9e5-42046803c71a');\n",
              "          const dataTable =\n",
              "            await google.colab.kernel.invokeFunction('convertToInteractive',\n",
              "                                                     [key], {});\n",
              "          if (!dataTable) return;\n",
              "\n",
              "          const docLinkHtml = 'Like what you see? Visit the ' +\n",
              "            '<a target=\"_blank\" href=https://colab.research.google.com/notebooks/data_table.ipynb>data table notebook</a>'\n",
              "            + ' to learn more about interactive tables.';\n",
              "          element.innerHTML = '';\n",
              "          dataTable['output_type'] = 'display_data';\n",
              "          await google.colab.output.renderOutput(dataTable, element);\n",
              "          const docLink = document.createElement('div');\n",
              "          docLink.innerHTML = docLinkHtml;\n",
              "          element.appendChild(docLink);\n",
              "        }\n",
              "      </script>\n",
              "    </div>\n",
              "  </div>\n",
              "  "
            ]
          },
          "metadata": {},
          "execution_count": 362
        }
      ]
    },
    {
      "cell_type": "code",
      "source": [
        "H=H.to_numpy() #DataFrame => numpy"
      ],
      "metadata": {
        "id": "aBRgr9nLIO5m"
      },
      "execution_count": null,
      "outputs": []
    },
    {
      "cell_type": "code",
      "source": [
        "H"
      ],
      "metadata": {
        "id": "PGnyjpp3Iulg",
        "colab": {
          "base_uri": "https://localhost:8080/"
        },
        "outputId": "d83caa0d-43d9-4769-e29d-4653e91fb4fa"
      },
      "execution_count": null,
      "outputs": [
        {
          "output_type": "execute_result",
          "data": {
            "text/plain": [
              "array([[0, 1, 0, 1, 1, 0, 0, 1],\n",
              "       [1, 1, 1, 0, 0, 1, 0, 0],\n",
              "       [0, 0, 1, 0, 0, 1, 1, 1],\n",
              "       [1, 0, 0, 1, 1, 0, 1, 0]])"
            ]
          },
          "metadata": {},
          "execution_count": 364
        }
      ]
    },
    {
      "cell_type": "code",
      "source": [
        "codeword.shape"
      ],
      "metadata": {
        "colab": {
          "base_uri": "https://localhost:8080/"
        },
        "id": "6giRI_ZqJjMc",
        "outputId": "781962dc-f125-44e8-cd40-5f66c4e72d11"
      },
      "execution_count": null,
      "outputs": [
        {
          "output_type": "execute_result",
          "data": {
            "text/plain": [
              "(8, 1)"
            ]
          },
          "metadata": {},
          "execution_count": 365
        }
      ]
    },
    {
      "cell_type": "code",
      "source": [
        "sum(codeword)"
      ],
      "metadata": {
        "colab": {
          "base_uri": "https://localhost:8080/"
        },
        "id": "C7qMmkoULlw9",
        "outputId": "51e21bc9-3840-4712-a370-44cca4b06107"
      },
      "execution_count": null,
      "outputs": [
        {
          "output_type": "execute_result",
          "data": {
            "text/plain": [
              "array([0.])"
            ]
          },
          "metadata": {},
          "execution_count": 366
        }
      ]
    },
    {
      "cell_type": "markdown",
      "source": [
        "# **BPSK**"
      ],
      "metadata": {
        "id": "U6b7e70CpvBj"
      }
    },
    {
      "cell_type": "code",
      "source": [
        "codeword2=np.zeros((N,1))\n",
        "\n",
        "for i in range(0,N):\n",
        "  if codeword[i,0] == 1:\n",
        "    codeword2[i,0] = -1\n",
        "  else :\n",
        "    codeword2[i,0] = 1\n"
      ],
      "metadata": {
        "id": "st_DIqT_OQDr"
      },
      "execution_count": null,
      "outputs": []
    },
    {
      "cell_type": "code",
      "source": [
        "codeword2"
      ],
      "metadata": {
        "id": "r4RJMpZfo2OO",
        "colab": {
          "base_uri": "https://localhost:8080/"
        },
        "outputId": "200d934a-a65a-4ed6-a3ee-7303438bfccf"
      },
      "execution_count": null,
      "outputs": [
        {
          "output_type": "execute_result",
          "data": {
            "text/plain": [
              "array([[1.],\n",
              "       [1.],\n",
              "       [1.],\n",
              "       [1.],\n",
              "       [1.],\n",
              "       [1.],\n",
              "       [1.],\n",
              "       [1.]])"
            ]
          },
          "metadata": {},
          "execution_count": 368
        }
      ]
    },
    {
      "cell_type": "markdown",
      "source": [
        "# **dB & SNRpbit**"
      ],
      "metadata": {
        "id": "bJE3mNhqPfUz"
      }
    },
    {
      "cell_type": "code",
      "source": [
        "dB=np.array([0, 0.25, 0.5,0.75, 1, 1.25, 1.5, 1.75, 2, 2.25, 2.5])\n",
        "db_len=dB.size\n",
        "[N1, N2]=H.shape\n",
        "print('N1값',N1, 'N2값',N2, '\\n')\n",
        "\n",
        "SNRpbit=10**(dB/10)\n",
        "\n",
        "print('SNRpbit값',SNRpbit)"
      ],
      "metadata": {
        "colab": {
          "base_uri": "https://localhost:8080/"
        },
        "id": "FXtET6h8VJdB",
        "outputId": "d3b3cccb-20de-477d-8f49-7b3472f0c57e"
      },
      "execution_count": null,
      "outputs": [
        {
          "output_type": "stream",
          "name": "stdout",
          "text": [
            "N1값 4 N2값 8 \n",
            "\n",
            "SNRpbit값 [1.         1.05925373 1.12201845 1.18850223 1.25892541 1.33352143\n",
            " 1.41253754 1.49623566 1.58489319 1.67880402 1.77827941]\n"
          ]
        }
      ]
    },
    {
      "cell_type": "markdown",
      "source": [
        "# **No_uncoded & No**"
      ],
      "metadata": {
        "id": "qQ-nAi8ySBxs"
      }
    },
    {
      "cell_type": "code",
      "source": [
        "No_uncoded=1/SNRpbit\n",
        "print('No_uncoded값',No_uncoded)\n",
        "R=(N2-3)/N2 # code rate\n",
        "print('code rate값',R)"
      ],
      "metadata": {
        "colab": {
          "base_uri": "https://localhost:8080/"
        },
        "id": "gX9rxq1dPe17",
        "outputId": "18dbe0d7-217d-4e7c-d967-6d8750232c78"
      },
      "execution_count": null,
      "outputs": [
        {
          "output_type": "stream",
          "name": "stdout",
          "text": [
            "No_uncoded값 [1.         0.94406088 0.89125094 0.84139514 0.79432823 0.74989421\n",
            " 0.70794578 0.66834392 0.63095734 0.59566214 0.56234133]\n",
            "code rate값 0.625\n"
          ]
        }
      ]
    },
    {
      "cell_type": "code",
      "source": [
        "No=No_uncoded/R;\n",
        "print('R값',R,'\\n')\n",
        "print('No값',No,'\\n')\n",
        "blockerrors=0; biterrors=0; block=0; Errors=0; maximum_blockerror=10; iteration=20;\n",
        "import sympy"
      ],
      "metadata": {
        "colab": {
          "base_uri": "https://localhost:8080/"
        },
        "id": "LfXtnvQPa4Tp",
        "outputId": "e8fdb10a-e2b4-4758-8991-97d1392e2433"
      },
      "execution_count": null,
      "outputs": [
        {
          "output_type": "stream",
          "name": "stdout",
          "text": [
            "R값 0.625 \n",
            "\n",
            "No값 [1.6        1.5104974  1.4260015  1.34623223 1.27092518 1.19983073\n",
            " 1.13271326 1.06935027 1.00953175 0.95305943 0.89974612] \n",
            "\n"
          ]
        }
      ]
    },
    {
      "cell_type": "code",
      "source": [
        "K=4\n",
        "N=8\n",
        "message_matrix=np.zeros((K,N))\n",
        "message_chk_to_var=np.zeros((K,N)) #Message_CHK_to_VAR=zeros(K,N)\n",
        "LLR2=np.zeros((1,N))\n",
        "\n",
        "print('message_matrix값 \\n',message_matrix)"
      ],
      "metadata": {
        "id": "a-_yhc9G_O55",
        "colab": {
          "base_uri": "https://localhost:8080/"
        },
        "outputId": "3fe67a98-a67d-4527-f4e1-3c0c1a419179"
      },
      "execution_count": null,
      "outputs": [
        {
          "output_type": "stream",
          "name": "stdout",
          "text": [
            "message_matrix값 \n",
            " [[0. 0. 0. 0. 0. 0. 0. 0.]\n",
            " [0. 0. 0. 0. 0. 0. 0. 0.]\n",
            " [0. 0. 0. 0. 0. 0. 0. 0.]\n",
            " [0. 0. 0. 0. 0. 0. 0. 0.]]\n"
          ]
        }
      ]
    },
    {
      "cell_type": "code",
      "source": [
        "for i in range(0,N) :\n",
        "  for j in range(0,K) :\n",
        "      message_matrix[j,i]=LLR[i]\n",
        "print('message_matrix값 \\n',message_matrix)\n",
        "A=np.zeros((N,2),dtype='int')\n",
        "B=np.zeros((K,4),dtype='int')\n",
        "\n",
        "for i in range(0,N):\n",
        "  A[i,:]=A[i,:]+(np.where(H[:,i]==1)) # A{i}=find(H(:,i)==1);\n",
        "\n",
        "for j in range(0,K):\n",
        "  B[j,:]=B[j,:]+(np.where(H[j,:]==1)) # B{j}=find(H(j,:)==1);\n",
        "\n",
        "print('B값',B)\n",
        "print('A값',A)"
      ],
      "metadata": {
        "colab": {
          "base_uri": "https://localhost:8080/"
        },
        "id": "h3kxrwxorop8",
        "outputId": "abf55c1d-a98d-49bf-bbbc-218a39d4214b"
      },
      "execution_count": null,
      "outputs": [
        {
          "output_type": "stream",
          "name": "stdout",
          "text": [
            "message_matrix값 \n",
            " [[-1.19078137  2.51059213  8.70238401  7.60564235  1.92139162 -0.31118196\n",
            "   5.65823683 -3.0685761 ]\n",
            " [-1.19078137  2.51059213  8.70238401  7.60564235  1.92139162 -0.31118196\n",
            "   5.65823683 -3.0685761 ]\n",
            " [-1.19078137  2.51059213  8.70238401  7.60564235  1.92139162 -0.31118196\n",
            "   5.65823683 -3.0685761 ]\n",
            " [-1.19078137  2.51059213  8.70238401  7.60564235  1.92139162 -0.31118196\n",
            "   5.65823683 -3.0685761 ]]\n",
            "B값 [[1 3 4 7]\n",
            " [0 1 2 5]\n",
            " [2 5 6 7]\n",
            " [0 3 4 6]]\n",
            "A값 [[1 3]\n",
            " [0 1]\n",
            " [1 2]\n",
            " [0 3]\n",
            " [0 3]\n",
            " [1 2]\n",
            " [2 3]\n",
            " [0 2]]\n"
          ]
        }
      ]
    },
    {
      "cell_type": "code",
      "source": [
        "BB=np.zeros((K, N))\n",
        "AA=np.zeros((K, B.shape[1]))\n",
        "AA2=np.zeros((N, A.shape[1]))\n",
        "AA3=np.zeros((1, N))\n",
        "AA4=np.zeros((1, N))\n",
        "MM=np.zeros((K,B.shape[1]))\n",
        "E=np.zeros((N, A.shape[1]))\n",
        "E1=np.zeros((N, A.shape[1]))"
      ],
      "metadata": {
        "id": "Uet6It2eu0aN"
      },
      "execution_count": null,
      "outputs": []
    },
    {
      "cell_type": "code",
      "source": [
        "j=0\n",
        "for k in range(0, B.shape[1]) :\n",
        "  AA[j, k]=message_matrix[j, B[j,k]] / 2 \n",
        "  AA[j, k]=np.tanh(AA[j, k])\n",
        "MM[j,:]=np.prod(AA[j, :],axis=0)/AA[j, :]\n",
        "MM[0,:]"
      ],
      "metadata": {
        "colab": {
          "base_uri": "https://localhost:8080/"
        },
        "id": "YeyXAIqLu-Is",
        "outputId": "b910e5b2-1887-4fc9-9118-915233fef6df"
      },
      "execution_count": null,
      "outputs": [
        {
          "output_type": "execute_result",
          "data": {
            "text/plain": [
              "array([0.73707561, 0.97281384, 0.72276877, 0.7213442 ])"
            ]
          },
          "metadata": {},
          "execution_count": 329
        }
      ]
    },
    {
      "cell_type": "code",
      "source": [
        "aa=1+MM[j,:]\n",
        "print('aa값',aa)\n",
        "bb=1-MM[j,:]\n",
        "print('bb값',bb)\n",
        "\n",
        "j=0\n",
        "for k in range(0, B.shape[1]) :\n",
        "  bb[bb==0]=1e-09\n",
        "  aa[aa==0]=1e-09\n",
        "  message_chk_to_var[j,B[j,k]]=math.log(aa[k]/bb[k])\n",
        "  print(math.log(aa[k]/bb[k]))\n",
        "\n",
        "message_chk_to_var"
      ],
      "metadata": {
        "colab": {
          "base_uri": "https://localhost:8080/"
        },
        "id": "BBN1ZBliwCiW",
        "outputId": "5e992f68-d396-4557-d456-9ec890fe38ba"
      },
      "execution_count": null,
      "outputs": [
        {
          "output_type": "stream",
          "name": "stdout",
          "text": [
            "aa값 [1.73707561 1.97281384 1.72276877 1.7213442 ]\n",
            "bb값 [0.26292439 0.02718616 0.27723123 0.2786558 ]\n",
            "1.8880917800223909\n",
            "4.284508150796711\n",
            "1.8268361133089988\n",
            "1.820883439910544\n"
          ]
        },
        {
          "output_type": "execute_result",
          "data": {
            "text/plain": [
              "array([[0.        , 1.88809178, 0.        , 4.28450815, 1.82683611,\n",
              "        0.        , 0.        , 1.82088344],\n",
              "       [0.        , 0.        , 0.        , 0.        , 0.        ,\n",
              "        0.        , 0.        , 0.        ],\n",
              "       [0.        , 0.        , 0.        , 0.        , 0.        ,\n",
              "        0.        , 0.        , 0.        ],\n",
              "       [0.        , 0.        , 0.        , 0.        , 0.        ,\n",
              "        0.        , 0.        , 0.        ]])"
            ]
          },
          "metadata": {},
          "execution_count": 330
        }
      ]
    },
    {
      "cell_type": "code",
      "source": [
        "for j in range(0,K):\n",
        "  for k in range(0, B.shape[1]) :\n",
        "    AA[j, k]=message_matrix[j, B[j,k]] / 2  # B_j = B{j};\n",
        "    AA[j, k]=np.tanh(AA[j, k]) # tanh(Message_matrix(j,B_j)/2)\n",
        "\n",
        "  MM[j,:]=np.prod(AA[j, :],axis=0)/AA[j, :]\n",
        "  aa=1+MM[j,:]\n",
        "  bb=1-MM[j,:]\n",
        "\n",
        "  for k in range(0, B.shape[1]) :\n",
        "    bb[bb==0]=1e-09\n",
        "    aa[aa==0]=1e-09\n",
        "    message_chk_to_var[j,B[j,k]]=math.log(aa[k]/bb[k])\n",
        "message_chk_to_var    "
      ],
      "metadata": {
        "colab": {
          "base_uri": "https://localhost:8080/"
        },
        "id": "v3s2WhnQwvuJ",
        "outputId": "8d00ee3c-4743-4127-a0b1-e6747bb8b39a"
      },
      "execution_count": null,
      "outputs": [
        {
          "output_type": "execute_result",
          "data": {
            "text/plain": [
              "array([[ 0.        ,  1.88809178,  0.        ,  4.28450815,  1.82683611,\n",
              "         0.        ,  0.        ,  1.82088344],\n",
              "       [-0.9348791 , -0.95907181, -1.83611446,  0.        ,  0.        ,\n",
              "         1.34611675,  0.        ,  0.        ],\n",
              "       [ 0.        ,  0.        , -1.90623529,  0.        ,  0.        ,\n",
              "         1.38665727, -0.95849183, -0.9596782 ],\n",
              "       [ 1.89153836,  0.        ,  0.        ,  6.11900516,  1.89965243,\n",
              "         0.        ,  1.88977584,  0.        ]])"
            ]
          },
          "metadata": {},
          "execution_count": 331
        }
      ]
    },
    {
      "cell_type": "code",
      "source": [
        "for i in range(0, K):\n",
        "  for j in range(0,N):\n",
        "    if message_chk_to_var[i,j]>100 :\n",
        "      message_chk_to_var[i,j]=100\n",
        "\n",
        "  for i in range(0, K):\n",
        "    for j in range(0,N):\n",
        "      if message_chk_to_var[i,j]<-100 :\n",
        "        message_chk_to_var[i,j]=-100\n",
        "print('message_chk_to_var값',message_chk_to_var)"
      ],
      "metadata": {
        "colab": {
          "base_uri": "https://localhost:8080/"
        },
        "id": "15Co0z3cxpxt",
        "outputId": "134111b9-c017-4ad1-a40b-c12340c692cd"
      },
      "execution_count": null,
      "outputs": [
        {
          "output_type": "stream",
          "name": "stdout",
          "text": [
            "message_chk_to_var값 [[ 0.          1.88809178  0.          4.28450815  1.82683611  0.\n",
            "   0.          1.82088344]\n",
            " [-0.9348791  -0.95907181 -1.83611446  0.          0.          1.34611675\n",
            "   0.          0.        ]\n",
            " [ 0.          0.         -1.90623529  0.          0.          1.38665727\n",
            "  -0.95849183 -0.9596782 ]\n",
            " [ 1.89153836  0.          0.          6.11900516  1.89965243  0.\n",
            "   1.88977584  0.        ]]\n"
          ]
        }
      ]
    },
    {
      "cell_type": "code",
      "source": [
        "print('message_chk_to_var값',message_chk_to_var)\n",
        "print('A[0,:]값 : ',A[0,:])\n",
        "\n",
        "j=0"
      ],
      "metadata": {
        "colab": {
          "base_uri": "https://localhost:8080/"
        },
        "id": "rdllz253zp5d",
        "outputId": "79a2e882-1f42-467e-c782-ef1458c0b846"
      },
      "execution_count": null,
      "outputs": [
        {
          "output_type": "stream",
          "name": "stdout",
          "text": [
            "message_chk_to_var값 [[ 0.          1.88809178  0.          4.28450815  1.82683611  0.\n",
            "   0.          1.82088344]\n",
            " [-0.9348791  -0.95907181 -1.83611446  0.          0.          1.34611675\n",
            "   0.          0.        ]\n",
            " [ 0.          0.         -1.90623529  0.          0.          1.38665727\n",
            "  -0.95849183 -0.9596782 ]\n",
            " [ 1.89153836  0.          0.          6.11900516  1.89965243  0.\n",
            "   1.88977584  0.        ]]\n",
            "A[0,:]값 :  [1 3]\n"
          ]
        }
      ]
    },
    {
      "cell_type": "code",
      "source": [
        "AA3=np.zeros((1, N))\n",
        "for k in range(0, A.shape[1]) :\n",
        "  AA3[j,0]+=message_chk_to_var[A[j,k],j]\n",
        "j=0\n",
        "print(message_chk_to_var[A[0,0],0])\n",
        "print(A[0,0])\n",
        "print(message_chk_to_var[A[0,1],0])\n",
        "print(A[0,1])\n",
        "print(AA3[j,0])"
      ],
      "metadata": {
        "colab": {
          "base_uri": "https://localhost:8080/"
        },
        "id": "Fs7YhaUIzT6q",
        "outputId": "76c969d2-c273-4ec5-e396-59f87abfaf10"
      },
      "execution_count": null,
      "outputs": [
        {
          "output_type": "stream",
          "name": "stdout",
          "text": [
            "-0.9348790975688247\n",
            "1\n",
            "1.8915383593143529\n",
            "3\n",
            "0.9566592617455282\n"
          ]
        }
      ]
    },
    {
      "cell_type": "code",
      "source": [
        "message_chk_to_var"
      ],
      "metadata": {
        "colab": {
          "base_uri": "https://localhost:8080/"
        },
        "id": "Fau8qU-z3k03",
        "outputId": "b3b67f91-7c60-4f56-9a94-28752c0c0f89"
      },
      "execution_count": null,
      "outputs": [
        {
          "output_type": "execute_result",
          "data": {
            "text/plain": [
              "array([[ 0.        ,  1.88809178,  0.        ,  4.28450815,  1.82683611,\n",
              "         0.        ,  0.        ,  1.82088344],\n",
              "       [-0.9348791 , -0.95907181, -1.83611446,  0.        ,  0.        ,\n",
              "         1.34611675,  0.        ,  0.        ],\n",
              "       [ 0.        ,  0.        , -1.90623529,  0.        ,  0.        ,\n",
              "         1.38665727, -0.95849183, -0.9596782 ],\n",
              "       [ 1.89153836,  0.        ,  0.        ,  6.11900516,  1.89965243,\n",
              "         0.        ,  1.88977584,  0.        ]])"
            ]
          },
          "metadata": {},
          "execution_count": 335
        }
      ]
    },
    {
      "cell_type": "code",
      "source": [
        "j=0\n",
        "AA3=np.zeros((1, N))\n",
        "for k in range(0, A.shape[1]) :\n",
        "  AA3[j,0]+=message_chk_to_var[A[j,k],j]\n",
        "for k in range(0, A.shape[1]) :\n",
        "  E[j, k]=AA3[0,j]-message_chk_to_var[A[j,k],j]\n",
        "print('AA3[j,0]값', AA3[j,0])\n",
        "print('E[j, :]값',E[j, :])"
      ],
      "metadata": {
        "colab": {
          "base_uri": "https://localhost:8080/"
        },
        "id": "_43LfdVv1g9j",
        "outputId": "33c85091-0d25-47a3-d381-86bf7c74106b"
      },
      "execution_count": null,
      "outputs": [
        {
          "output_type": "stream",
          "name": "stdout",
          "text": [
            "AA3[j,0]값 0.9566592617455282\n",
            "E[j, :]값 [ 1.89153836 -0.9348791 ]\n"
          ]
        }
      ]
    },
    {
      "cell_type": "code",
      "source": [
        "message_chk_to_var.shape"
      ],
      "metadata": {
        "colab": {
          "base_uri": "https://localhost:8080/"
        },
        "id": "adwTwvEF30KT",
        "outputId": "987660a4-1f92-49c1-cdf5-f22878321774"
      },
      "execution_count": null,
      "outputs": [
        {
          "output_type": "execute_result",
          "data": {
            "text/plain": [
              "(4, 8)"
            ]
          },
          "metadata": {},
          "execution_count": 337
        }
      ]
    },
    {
      "cell_type": "code",
      "source": [
        "AA3=np.zeros((1, N))\n",
        "\n",
        "for j in range(0, N) :\n",
        "  for k in range(0, A.shape[1]) :\n",
        "    AA3[0,j]+=message_chk_to_var[A[j,k],j]\n",
        "  for k in range(0, A.shape[1]) :\n",
        "    E[j, k]=AA3[0,j]-message_chk_to_var[A[j,k],j]\n",
        "  for k in range(0, A.shape[1]) :\n",
        "    message_matrix[A[j,k],j] = E[j,k] + LLR[j]\n",
        "message_matrix    "
      ],
      "metadata": {
        "colab": {
          "base_uri": "https://localhost:8080/"
        },
        "id": "heUECbqI2Yx9",
        "outputId": "b98439be-2db2-4136-a9d3-33896c8979a5"
      },
      "execution_count": null,
      "outputs": [
        {
          "output_type": "execute_result",
          "data": {
            "text/plain": [
              "array([[ 7.80275017,  3.51018857,  1.38968458,  8.02222472,  8.30316846,\n",
              "        -1.9115499 ,  8.90057125,  6.34966533],\n",
              "       [ 9.69428853,  6.35735216, -0.51655071,  1.90321956,  6.40351603,\n",
              "        -0.52489264,  8.90057125,  7.30934353],\n",
              "       [ 7.80275017,  4.46926038, -0.44642988,  1.90321956,  6.40351603,\n",
              "        -0.56543316, 10.79034709,  9.13022697],\n",
              "       [ 6.86787107,  4.46926038,  1.38968458,  6.18772771,  8.23035214,\n",
              "        -1.9115499 ,  7.94207943,  7.30934353]])"
            ]
          },
          "metadata": {},
          "execution_count": 338
        }
      ]
    },
    {
      "cell_type": "code",
      "source": [
        "i=0\n",
        "AA4=np.zeros((1, N))\n",
        "for k in range(0, A.shape[1]) :\n",
        "  AA4[0,i]+=message_chk_to_var[A[i,k],i]  \n",
        "LLR2[0,i]=AA4[0,i]+LLR[i,0]\n",
        "print(message_chk_to_var[1,0])\n",
        "print(message_chk_to_var[3,0])\n",
        "print(AA4[0,i])\n",
        "print(LLR2[0,i])"
      ],
      "metadata": {
        "colab": {
          "base_uri": "https://localhost:8080/"
        },
        "id": "u5xoWbdt4kBv",
        "outputId": "f061d3c9-9cea-4042-e9de-4e4b54d194e3"
      },
      "execution_count": null,
      "outputs": [
        {
          "output_type": "stream",
          "name": "stdout",
          "text": [
            "-0.9348790975688247\n",
            "1.8915383593143529\n",
            "0.9566592617455282\n",
            "8.759409427432367\n"
          ]
        }
      ]
    },
    {
      "cell_type": "markdown",
      "source": [
        "# **SPA**"
      ],
      "metadata": {
        "id": "J4NAXd0g-d8i"
      }
    },
    {
      "cell_type": "code",
      "source": [
        "def SPA(N, K, H, LLR, iteration) :\n",
        "  message_matrix=np.zeros((K,N))\n",
        "  message_chk_to_var=np.zeros((K,N)) #Message_CHK_to_VAR=zeros(K,N)\n",
        "  LLR2=np.zeros((1,N))\n",
        "\n",
        "  for i in range(0,N) :\n",
        "    for j in range(0,K) :\n",
        "        message_matrix[j,i]=LLR[i]\n",
        "\n",
        "  A=np.zeros((N,2),dtype='int')\n",
        "  B=np.zeros((K,4),dtype='int')\n",
        "\n",
        "  for i in range(0,N):\n",
        "    A[i,:]=A[i,:]+(np.where(H[:,i]==1)) # A{i}=find(H(:,i)==1);\n",
        "\n",
        "  for j in range(0,K):\n",
        "    B[j,:]=B[j,:]+(np.where(H[j,:]==1)) # B{j}=find(H(j,:)==1);\n",
        "\n",
        "  BB=np.zeros((K, N))\n",
        "  AA=np.zeros((K, B.shape[1]))\n",
        "  AA2=np.zeros((N, A.shape[1]))\n",
        "  AA3=np.zeros((1, N))\n",
        "  AA4=np.zeros((1, N))\n",
        "  MM=np.zeros((K,B.shape[1]))\n",
        "  E=np.zeros((N, A.shape[1]))\n",
        "  E1=np.zeros((N, A.shape[1]))\n",
        "\n",
        "  for iiter in range(0,iteration):\n",
        "    for j in range(0,K):\n",
        "      for k in range(0, B.shape[1]) :\n",
        "        AA[j, k]=message_matrix[j, B[j,k]] / 2  # B_j = B{j};\n",
        "        AA[j, k]=np.tanh(AA[j, k]) # tanh(Message_matrix(j,B_j)/2)\n",
        "\n",
        "      MM[j,:]=np.prod(AA[j, :],axis=0)/AA[j, :]\n",
        "      aa=1+MM[j,:]\n",
        "      bb=1-MM[j,:]\n",
        "    \n",
        "      for k in range(0, B.shape[1]) :\n",
        "        bb[bb==0]=1e-09\n",
        "        aa[aa==0]=1e-09\n",
        "        message_chk_to_var[j,B[j,k]]=math.log(aa[k]/bb[k])\n",
        "    #message_chk_to_var=np.clip(message_chk_to_var,-100,100)      \n",
        "      \n",
        "      for i in range(0, K):\n",
        "        for j in range(0,N):\n",
        "          if message_chk_to_var[i,j]>100 :\n",
        "            message_chk_to_var[i,j]=100\n",
        "\n",
        "      for i in range(0, K):\n",
        "        for j in range(0,N):\n",
        "          if message_chk_to_var[i,j]<-100 :\n",
        "            message_chk_to_var[i,j]=-100\n",
        "    AA3=np.zeros((1, N))\n",
        "\n",
        "    for j in range(0, N) :\n",
        "      for k in range(0, A.shape[1]) :\n",
        "        AA3[0,j]+=message_chk_to_var[A[j,k],j]\n",
        "      for k in range(0, A.shape[1]) :\n",
        "        E[j, k]=AA3[0,j]-message_chk_to_var[A[j,k],j]\n",
        "      for k in range(0, A.shape[1]) :\n",
        "        message_matrix[A[j,k],j] = E[j,k] + LLR[j]\n",
        "    AA4=np.zeros((1, N))\n",
        "    for i in range(0,N) :\n",
        "      for k in range(0, A.shape[1]) :\n",
        "        AA4[0,i]+=message_chk_to_var[A[i,k],i]\n",
        "      LLR2[0,i]=AA4[0,i]+LLR[i,0]\n",
        "  return LLR2"
      ],
      "metadata": {
        "id": "ILOWcED0UkRS"
      },
      "execution_count": null,
      "outputs": []
    },
    {
      "cell_type": "markdown",
      "source": [
        "# **main**"
      ],
      "metadata": {
        "id": "SQk3wvLFVVeb"
      }
    },
    {
      "cell_type": "code",
      "source": [
        "import sympy\n",
        "import math\n",
        "BER=np.zeros((1,db_len))\n",
        "for len in range(0,db_len):\n",
        "  error=0\n",
        "  blockerrors=0\n",
        "  block=0\n",
        "\n",
        "  qqw=np.zeros((1,information2.shape[1]))\n",
        "  qqe=np.zeros((1,information2.shape[1]))\n",
        "  while blockerrors < maximum_blockerror :\n",
        "\n",
        "    sigma=math.sqrt(No[len]/2)\n",
        "    tx=codeword2+sigma*np.random.randn(codeword2.shape[0],1)\n",
        "\n",
        "    LLR=(2/sigma**2)*tx\n",
        "\n",
        "    LLR2=SPA(N,K,H,LLR, iteration)\n",
        "    new_codeword=np.sign(LLR2)\n",
        "    \n",
        "    new_codeword2=new_codeword.reshape(1, 8)\n",
        "    codeword22=codeword\n",
        "    codeword22=codeword22.reshape(1, 8)\n",
        "\n",
        "    for i in range(0, information2.shape[1]) :\n",
        "      qqw[0,i]=new_codeword2[0, information2[0,i]]\n",
        "\n",
        "    for i in range(0, information2.shape[1]) :\n",
        "      if qqw[0,i]>0 :\n",
        "        qqw[0,i]=0\n",
        "      else :\n",
        "        qqw[0,i]=1    \n",
        "\n",
        "    for i in range(0, information2.shape[1]) :\n",
        "      qqe[0,i]=codeword22[0, information2[0,i]]\n",
        "    error+=(~(qqw==qqe)).sum()      \n",
        "\n",
        "    if (~(qqw==qqe)).sum() != 0 :\n",
        "      blockerrors=blockerrors+1\n",
        "      print('blockerrors값',blockerrors)\n",
        "    block=block+1  \n",
        "    print('error값',error)  \n",
        "    print('ber값',error/(block* information2.shape[1]))  \n",
        "  BER[0,len]=error/(block* information2.shape[1])"
      ],
      "metadata": {
        "id": "3VM4Kx4eR68x",
        "colab": {
          "base_uri": "https://localhost:8080/"
        },
        "outputId": "04cd0d9e-1ed2-4d7e-8d5f-5af7daf02987"
      },
      "execution_count": null,
      "outputs": [
        {
          "output_type": "stream",
          "name": "stdout",
          "text": [
            "error값 0\n",
            "ber값 0.0\n",
            "error값 0\n",
            "ber값 0.0\n",
            "error값 0\n",
            "ber값 0.0\n",
            "error값 0\n",
            "ber값 0.0\n",
            "error값 0\n",
            "ber값 0.0\n",
            "error값 0\n",
            "ber값 0.0\n",
            "error값 0\n",
            "ber값 0.0\n",
            "error값 0\n",
            "ber값 0.0\n",
            "blockerrors값 1\n",
            "error값 1\n",
            "ber값 0.022222222222222223\n",
            "blockerrors값 2\n",
            "error값 3\n",
            "ber값 0.06\n",
            "error값 3\n",
            "ber값 0.05454545454545454\n",
            "error값 3\n",
            "ber값 0.05\n",
            "error값 3\n",
            "ber값 0.046153846153846156\n",
            "error값 3\n",
            "ber값 0.04285714285714286\n",
            "error값 3\n",
            "ber값 0.04\n",
            "error값 3\n",
            "ber값 0.0375\n",
            "error값 3\n",
            "ber값 0.03529411764705882\n",
            "error값 3\n",
            "ber값 0.03333333333333333\n",
            "blockerrors값 3\n",
            "error값 5\n",
            "ber값 0.05263157894736842\n",
            "blockerrors값 4\n",
            "error값 6\n",
            "ber값 0.06\n",
            "blockerrors값 5\n",
            "error값 8\n",
            "ber값 0.0761904761904762\n",
            "error값 8\n",
            "ber값 0.07272727272727272\n",
            "error값 8\n",
            "ber값 0.06956521739130435\n",
            "error값 8\n",
            "ber값 0.06666666666666667\n",
            "error값 8\n",
            "ber값 0.064\n",
            "error값 8\n",
            "ber값 0.06153846153846154\n",
            "error값 8\n",
            "ber값 0.05925925925925926\n",
            "blockerrors값 6\n",
            "error값 10\n",
            "ber값 0.07142857142857142\n",
            "error값 10\n",
            "ber값 0.06896551724137931\n",
            "blockerrors값 7\n",
            "error값 11\n",
            "ber값 0.07333333333333333\n",
            "error값 11\n",
            "ber값 0.07096774193548387\n",
            "error값 11\n",
            "ber값 0.06875\n",
            "error값 11\n",
            "ber값 0.06666666666666667\n",
            "error값 11\n",
            "ber값 0.06470588235294118\n",
            "error값 11\n",
            "ber값 0.06285714285714286\n",
            "error값 11\n",
            "ber값 0.06111111111111111\n",
            "error값 11\n",
            "ber값 0.05945945945945946\n",
            "error값 11\n",
            "ber값 0.05789473684210526\n",
            "error값 11\n",
            "ber값 0.05641025641025641\n",
            "error값 11\n",
            "ber값 0.055\n",
            "error값 11\n",
            "ber값 0.05365853658536585\n",
            "error값 11\n",
            "ber값 0.05238095238095238\n",
            "error값 11\n",
            "ber값 0.05116279069767442\n",
            "error값 11\n",
            "ber값 0.05\n",
            "error값 11\n",
            "ber값 0.04888888888888889\n",
            "error값 11\n",
            "ber값 0.04782608695652174\n",
            "blockerrors값 8\n",
            "error값 13\n",
            "ber값 0.05531914893617021\n",
            "error값 13\n",
            "ber값 0.05416666666666667\n",
            "blockerrors값 9\n",
            "error값 14\n",
            "ber값 0.05714285714285714\n",
            "blockerrors값 10\n",
            "error값 17\n",
            "ber값 0.068\n",
            "error값 0\n",
            "ber값 0.0\n",
            "error값 0\n",
            "ber값 0.0\n",
            "error값 0\n",
            "ber값 0.0\n",
            "error값 0\n",
            "ber값 0.0\n",
            "blockerrors값 1\n",
            "error값 2\n",
            "ber값 0.08\n",
            "error값 2\n",
            "ber값 0.06666666666666667\n",
            "blockerrors값 2\n",
            "error값 4\n",
            "ber값 0.11428571428571428\n",
            "blockerrors값 3\n",
            "error값 6\n",
            "ber값 0.15\n",
            "error값 6\n",
            "ber값 0.13333333333333333\n",
            "blockerrors값 4\n",
            "error값 9\n",
            "ber값 0.18\n",
            "error값 9\n",
            "ber값 0.16363636363636364\n",
            "error값 9\n",
            "ber값 0.15\n",
            "blockerrors값 5\n",
            "error값 12\n",
            "ber값 0.18461538461538463\n",
            "error값 12\n",
            "ber값 0.17142857142857143\n",
            "error값 12\n",
            "ber값 0.16\n",
            "error값 12\n",
            "ber값 0.15\n",
            "error값 12\n",
            "ber값 0.1411764705882353\n",
            "error값 12\n",
            "ber값 0.13333333333333333\n",
            "blockerrors값 6\n",
            "error값 13\n",
            "ber값 0.1368421052631579\n",
            "error값 13\n",
            "ber값 0.13\n",
            "error값 13\n",
            "ber값 0.12380952380952381\n",
            "error값 13\n",
            "ber값 0.11818181818181818\n",
            "error값 13\n",
            "ber값 0.11304347826086956\n",
            "error값 13\n",
            "ber값 0.10833333333333334\n",
            "error값 13\n",
            "ber값 0.104\n",
            "blockerrors값 7\n",
            "error값 15\n",
            "ber값 0.11538461538461539\n",
            "error값 15\n",
            "ber값 0.1111111111111111\n",
            "error값 15\n",
            "ber값 0.10714285714285714\n",
            "error값 15\n",
            "ber값 0.10344827586206896\n",
            "error값 15\n",
            "ber값 0.1\n",
            "blockerrors값 8\n",
            "error값 16\n",
            "ber값 0.1032258064516129\n",
            "error값 16\n",
            "ber값 0.1\n",
            "error값 16\n",
            "ber값 0.09696969696969697\n",
            "error값 16\n",
            "ber값 0.09411764705882353\n",
            "error값 16\n",
            "ber값 0.09142857142857143\n",
            "error값 16\n",
            "ber값 0.08888888888888889\n",
            "error값 16\n",
            "ber값 0.08648648648648649\n",
            "error값 16\n",
            "ber값 0.08421052631578947\n",
            "blockerrors값 9\n",
            "error값 18\n",
            "ber값 0.09230769230769231\n",
            "error값 18\n",
            "ber값 0.09\n",
            "error값 18\n",
            "ber값 0.08780487804878048\n",
            "blockerrors값 10\n",
            "error값 20\n",
            "ber값 0.09523809523809523\n",
            "error값 0\n",
            "ber값 0.0\n",
            "blockerrors값 1\n",
            "error값 3\n",
            "ber값 0.3\n",
            "error값 3\n",
            "ber값 0.2\n",
            "error값 3\n",
            "ber값 0.15\n",
            "error값 3\n",
            "ber값 0.12\n",
            "error값 3\n",
            "ber값 0.1\n",
            "error값 3\n",
            "ber값 0.08571428571428572\n",
            "blockerrors값 2\n",
            "error값 5\n",
            "ber값 0.125\n",
            "error값 5\n",
            "ber값 0.1111111111111111\n",
            "error값 5\n",
            "ber값 0.1\n",
            "error값 5\n",
            "ber값 0.09090909090909091\n",
            "error값 5\n",
            "ber값 0.08333333333333333\n",
            "error값 5\n",
            "ber값 0.07692307692307693\n",
            "error값 5\n",
            "ber값 0.07142857142857142\n",
            "error값 5\n",
            "ber값 0.06666666666666667\n",
            "error값 5\n",
            "ber값 0.0625\n",
            "blockerrors값 3\n",
            "error값 6\n",
            "ber값 0.07058823529411765\n",
            "error값 6\n",
            "ber값 0.06666666666666667\n",
            "error값 6\n",
            "ber값 0.06315789473684211\n",
            "error값 6\n",
            "ber값 0.06\n",
            "blockerrors값 4\n",
            "error값 7\n",
            "ber값 0.06666666666666667\n",
            "blockerrors값 5\n",
            "error값 9\n",
            "ber값 0.08181818181818182\n",
            "error값 9\n",
            "ber값 0.0782608695652174\n",
            "error값 9\n",
            "ber값 0.075\n",
            "error값 9\n",
            "ber값 0.072\n",
            "error값 9\n",
            "ber값 0.06923076923076923\n",
            "blockerrors값 6\n",
            "error값 11\n",
            "ber값 0.08148148148148149\n",
            "blockerrors값 7\n",
            "error값 13\n",
            "ber값 0.09285714285714286\n",
            "blockerrors값 8\n",
            "error값 14\n",
            "ber값 0.09655172413793103\n",
            "error값 14\n",
            "ber값 0.09333333333333334\n",
            "error값 14\n",
            "ber값 0.09032258064516129\n",
            "error값 14\n",
            "ber값 0.0875\n",
            "error값 14\n",
            "ber값 0.08484848484848485\n",
            "error값 14\n",
            "ber값 0.08235294117647059\n",
            "error값 14\n",
            "ber값 0.08\n",
            "error값 14\n",
            "ber값 0.07777777777777778\n",
            "error값 14\n",
            "ber값 0.07567567567567568\n",
            "error값 14\n",
            "ber값 0.07368421052631578\n",
            "blockerrors값 9\n",
            "error값 16\n",
            "ber값 0.08205128205128205\n",
            "error값 16\n",
            "ber값 0.08\n",
            "error값 16\n",
            "ber값 0.07804878048780488\n",
            "error값 16\n",
            "ber값 0.0761904761904762\n",
            "error값 16\n",
            "ber값 0.07441860465116279\n",
            "error값 16\n",
            "ber값 0.07272727272727272\n",
            "error값 16\n",
            "ber값 0.07111111111111111\n",
            "error값 16\n",
            "ber값 0.06956521739130435\n",
            "error값 16\n",
            "ber값 0.06808510638297872\n",
            "error값 16\n",
            "ber값 0.06666666666666667\n",
            "error값 16\n",
            "ber값 0.0653061224489796\n",
            "error값 16\n",
            "ber값 0.064\n",
            "error값 16\n",
            "ber값 0.06274509803921569\n",
            "error값 16\n",
            "ber값 0.06153846153846154\n",
            "error값 16\n",
            "ber값 0.06037735849056604\n",
            "error값 16\n",
            "ber값 0.05925925925925926\n",
            "blockerrors값 10\n",
            "error값 17\n",
            "ber값 0.06181818181818182\n",
            "error값 0\n",
            "ber값 0.0\n",
            "error값 0\n",
            "ber값 0.0\n",
            "error값 0\n",
            "ber값 0.0\n",
            "error값 0\n",
            "ber값 0.0\n",
            "error값 0\n",
            "ber값 0.0\n",
            "blockerrors값 1\n",
            "error값 1\n",
            "ber값 0.03333333333333333\n",
            "blockerrors값 2\n",
            "error값 2\n",
            "ber값 0.05714285714285714\n",
            "error값 2\n",
            "ber값 0.05\n",
            "error값 2\n",
            "ber값 0.044444444444444446\n",
            "error값 2\n",
            "ber값 0.04\n",
            "error값 2\n",
            "ber값 0.03636363636363636\n",
            "error값 2\n",
            "ber값 0.03333333333333333\n",
            "error값 2\n",
            "ber값 0.03076923076923077\n",
            "error값 2\n",
            "ber값 0.02857142857142857\n",
            "error값 2\n",
            "ber값 0.02666666666666667\n",
            "error값 2\n",
            "ber값 0.025\n",
            "error값 2\n",
            "ber값 0.023529411764705882\n",
            "error값 2\n",
            "ber값 0.022222222222222223\n",
            "error값 2\n",
            "ber값 0.021052631578947368\n",
            "error값 2\n",
            "ber값 0.02\n",
            "error값 2\n",
            "ber값 0.01904761904761905\n",
            "error값 2\n",
            "ber값 0.01818181818181818\n",
            "error값 2\n",
            "ber값 0.017391304347826087\n",
            "error값 2\n",
            "ber값 0.016666666666666666\n",
            "error값 2\n",
            "ber값 0.016\n",
            "error값 2\n",
            "ber값 0.015384615384615385\n",
            "error값 2\n",
            "ber값 0.014814814814814815\n",
            "error값 2\n",
            "ber값 0.014285714285714285\n",
            "error값 2\n",
            "ber값 0.013793103448275862\n",
            "error값 2\n",
            "ber값 0.013333333333333334\n",
            "error값 2\n",
            "ber값 0.012903225806451613\n",
            "error값 2\n",
            "ber값 0.0125\n",
            "error값 2\n",
            "ber값 0.012121212121212121\n",
            "error값 2\n",
            "ber값 0.011764705882352941\n",
            "blockerrors값 3\n",
            "error값 4\n",
            "ber값 0.022857142857142857\n",
            "error값 4\n",
            "ber값 0.022222222222222223\n",
            "error값 4\n",
            "ber값 0.021621621621621623\n",
            "blockerrors값 4\n",
            "error값 5\n",
            "ber값 0.02631578947368421\n",
            "error값 5\n",
            "ber값 0.02564102564102564\n",
            "error값 5\n",
            "ber값 0.025\n",
            "error값 5\n",
            "ber값 0.024390243902439025\n",
            "error값 5\n",
            "ber값 0.023809523809523808\n",
            "error값 5\n",
            "ber값 0.023255813953488372\n",
            "error값 5\n",
            "ber값 0.022727272727272728\n",
            "error값 5\n",
            "ber값 0.022222222222222223\n",
            "error값 5\n",
            "ber값 0.021739130434782608\n",
            "error값 5\n",
            "ber값 0.02127659574468085\n",
            "error값 5\n",
            "ber값 0.020833333333333332\n",
            "error값 5\n",
            "ber값 0.02040816326530612\n",
            "error값 5\n",
            "ber값 0.02\n",
            "blockerrors값 5\n",
            "error값 6\n",
            "ber값 0.023529411764705882\n",
            "error값 6\n",
            "ber값 0.023076923076923078\n",
            "blockerrors값 6\n",
            "error값 8\n",
            "ber값 0.03018867924528302\n",
            "error값 8\n",
            "ber값 0.02962962962962963\n",
            "blockerrors값 7\n",
            "error값 9\n",
            "ber값 0.03272727272727273\n",
            "error값 9\n",
            "ber값 0.03214285714285714\n",
            "blockerrors값 8\n",
            "error값 10\n",
            "ber값 0.03508771929824561\n",
            "error값 10\n",
            "ber값 0.034482758620689655\n",
            "error값 10\n",
            "ber값 0.03389830508474576\n",
            "error값 10\n",
            "ber값 0.03333333333333333\n",
            "error값 10\n",
            "ber값 0.03278688524590164\n",
            "error값 10\n",
            "ber값 0.03225806451612903\n",
            "error값 10\n",
            "ber값 0.031746031746031744\n",
            "error값 10\n",
            "ber값 0.03125\n",
            "blockerrors값 9\n",
            "error값 11\n",
            "ber값 0.033846153846153845\n",
            "blockerrors값 10\n",
            "error값 13\n",
            "ber값 0.03939393939393939\n",
            "error값 0\n",
            "ber값 0.0\n",
            "error값 0\n",
            "ber값 0.0\n",
            "error값 0\n",
            "ber값 0.0\n",
            "error값 0\n",
            "ber값 0.0\n",
            "error값 0\n",
            "ber값 0.0\n",
            "error값 0\n",
            "ber값 0.0\n",
            "error값 0\n",
            "ber값 0.0\n",
            "error값 0\n",
            "ber값 0.0\n",
            "error값 0\n",
            "ber값 0.0\n",
            "error값 0\n",
            "ber값 0.0\n",
            "error값 0\n",
            "ber값 0.0\n",
            "error값 0\n",
            "ber값 0.0\n",
            "error값 0\n",
            "ber값 0.0\n",
            "blockerrors값 1\n",
            "error값 2\n",
            "ber값 0.02857142857142857\n",
            "error값 2\n",
            "ber값 0.02666666666666667\n",
            "error값 2\n",
            "ber값 0.025\n",
            "blockerrors값 2\n",
            "error값 3\n",
            "ber값 0.03529411764705882\n",
            "error값 3\n",
            "ber값 0.03333333333333333\n",
            "error값 3\n",
            "ber값 0.031578947368421054\n",
            "blockerrors값 3\n",
            "error값 6\n",
            "ber값 0.06\n",
            "error값 6\n",
            "ber값 0.05714285714285714\n",
            "blockerrors값 4\n",
            "error값 7\n",
            "ber값 0.06363636363636363\n",
            "error값 7\n",
            "ber값 0.06086956521739131\n",
            "error값 7\n",
            "ber값 0.058333333333333334\n",
            "error값 7\n",
            "ber값 0.056\n",
            "error값 7\n",
            "ber값 0.05384615384615385\n",
            "error값 7\n",
            "ber값 0.05185185185185185\n",
            "error값 7\n",
            "ber값 0.05\n",
            "blockerrors값 5\n",
            "error값 9\n",
            "ber값 0.06206896551724138\n",
            "error값 9\n",
            "ber값 0.06\n",
            "error값 9\n",
            "ber값 0.05806451612903226\n",
            "error값 9\n",
            "ber값 0.05625\n",
            "blockerrors값 6\n",
            "error값 12\n",
            "ber값 0.07272727272727272\n",
            "error값 12\n",
            "ber값 0.07058823529411765\n",
            "error값 12\n",
            "ber값 0.06857142857142857\n",
            "error값 12\n",
            "ber값 0.06666666666666667\n",
            "blockerrors값 7\n",
            "error값 14\n",
            "ber값 0.07567567567567568\n",
            "blockerrors값 8\n",
            "error값 17\n",
            "ber값 0.08947368421052632\n",
            "error값 17\n",
            "ber값 0.08717948717948718\n",
            "error값 17\n",
            "ber값 0.085\n",
            "error값 17\n",
            "ber값 0.08292682926829269\n",
            "error값 17\n",
            "ber값 0.08095238095238096\n",
            "error값 17\n",
            "ber값 0.07906976744186046\n",
            "error값 17\n",
            "ber값 0.07727272727272727\n",
            "error값 17\n",
            "ber값 0.07555555555555556\n",
            "error값 17\n",
            "ber값 0.07391304347826087\n",
            "error값 17\n",
            "ber값 0.07234042553191489\n",
            "blockerrors값 9\n",
            "error값 18\n",
            "ber값 0.075\n",
            "error값 18\n",
            "ber값 0.07346938775510205\n",
            "error값 18\n",
            "ber값 0.072\n",
            "error값 18\n",
            "ber값 0.07058823529411765\n",
            "blockerrors값 10\n",
            "error값 20\n",
            "ber값 0.07692307692307693\n",
            "error값 0\n",
            "ber값 0.0\n",
            "error값 0\n",
            "ber값 0.0\n",
            "blockerrors값 1\n",
            "error값 2\n",
            "ber값 0.13333333333333333\n",
            "error값 2\n",
            "ber값 0.1\n",
            "blockerrors값 2\n",
            "error값 5\n",
            "ber값 0.2\n",
            "error값 5\n",
            "ber값 0.16666666666666666\n",
            "error값 5\n",
            "ber값 0.14285714285714285\n",
            "error값 5\n",
            "ber값 0.125\n",
            "error값 5\n",
            "ber값 0.1111111111111111\n",
            "error값 5\n",
            "ber값 0.1\n",
            "blockerrors값 3\n",
            "error값 6\n",
            "ber값 0.10909090909090909\n",
            "error값 6\n",
            "ber값 0.1\n",
            "error값 6\n",
            "ber값 0.09230769230769231\n",
            "error값 6\n",
            "ber값 0.08571428571428572\n",
            "error값 6\n",
            "ber값 0.08\n",
            "error값 6\n",
            "ber값 0.075\n",
            "blockerrors값 4\n",
            "error값 7\n",
            "ber값 0.08235294117647059\n",
            "error값 7\n",
            "ber값 0.07777777777777778\n",
            "error값 7\n",
            "ber값 0.07368421052631578\n",
            "error값 7\n",
            "ber값 0.07\n",
            "error값 7\n",
            "ber값 0.06666666666666667\n",
            "error값 7\n",
            "ber값 0.06363636363636363\n",
            "error값 7\n",
            "ber값 0.06086956521739131\n",
            "blockerrors값 5\n",
            "error값 8\n",
            "ber값 0.06666666666666667\n",
            "error값 8\n",
            "ber값 0.064\n",
            "error값 8\n",
            "ber값 0.06153846153846154\n",
            "error값 8\n",
            "ber값 0.05925925925925926\n",
            "error값 8\n",
            "ber값 0.05714285714285714\n",
            "error값 8\n",
            "ber값 0.05517241379310345\n",
            "blockerrors값 6\n",
            "error값 9\n",
            "ber값 0.06\n",
            "error값 9\n",
            "ber값 0.05806451612903226\n",
            "error값 9\n",
            "ber값 0.05625\n",
            "error값 9\n",
            "ber값 0.05454545454545454\n",
            "blockerrors값 7\n",
            "error값 10\n",
            "ber값 0.058823529411764705\n",
            "error값 10\n",
            "ber값 0.05714285714285714\n",
            "error값 10\n",
            "ber값 0.05555555555555555\n",
            "error값 10\n",
            "ber값 0.05405405405405406\n",
            "blockerrors값 8\n",
            "error값 13\n",
            "ber값 0.06842105263157895\n",
            "error값 13\n",
            "ber값 0.06666666666666667\n",
            "error값 13\n",
            "ber값 0.065\n",
            "error값 13\n",
            "ber값 0.06341463414634146\n",
            "error값 13\n",
            "ber값 0.06190476190476191\n",
            "error값 13\n",
            "ber값 0.06046511627906977\n",
            "blockerrors값 9\n",
            "error값 15\n",
            "ber값 0.06818181818181818\n",
            "error값 15\n",
            "ber값 0.06666666666666667\n",
            "error값 15\n",
            "ber값 0.06521739130434782\n",
            "error값 15\n",
            "ber값 0.06382978723404255\n",
            "error값 15\n",
            "ber값 0.0625\n",
            "error값 15\n",
            "ber값 0.061224489795918366\n",
            "error값 15\n",
            "ber값 0.06\n",
            "error값 15\n",
            "ber값 0.058823529411764705\n",
            "error값 15\n",
            "ber값 0.057692307692307696\n",
            "error값 15\n",
            "ber값 0.05660377358490566\n",
            "blockerrors값 10\n",
            "error값 16\n",
            "ber값 0.05925925925925926\n",
            "error값 0\n",
            "ber값 0.0\n",
            "error값 0\n",
            "ber값 0.0\n",
            "error값 0\n",
            "ber값 0.0\n",
            "error값 0\n",
            "ber값 0.0\n",
            "error값 0\n",
            "ber값 0.0\n",
            "error값 0\n",
            "ber값 0.0\n",
            "error값 0\n",
            "ber값 0.0\n",
            "error값 0\n",
            "ber값 0.0\n",
            "error값 0\n",
            "ber값 0.0\n",
            "error값 0\n",
            "ber값 0.0\n",
            "error값 0\n",
            "ber값 0.0\n",
            "error값 0\n",
            "ber값 0.0\n",
            "blockerrors값 1\n",
            "error값 1\n",
            "ber값 0.015384615384615385\n",
            "error값 1\n",
            "ber값 0.014285714285714285\n",
            "error값 1\n",
            "ber값 0.013333333333333334\n",
            "error값 1\n",
            "ber값 0.0125\n",
            "error값 1\n",
            "ber값 0.011764705882352941\n",
            "error값 1\n",
            "ber값 0.011111111111111112\n",
            "error값 1\n",
            "ber값 0.010526315789473684\n",
            "error값 1\n",
            "ber값 0.01\n",
            "error값 1\n",
            "ber값 0.009523809523809525\n",
            "error값 1\n",
            "ber값 0.00909090909090909\n",
            "error값 1\n",
            "ber값 0.008695652173913044\n",
            "error값 1\n",
            "ber값 0.008333333333333333\n",
            "error값 1\n",
            "ber값 0.008\n",
            "error값 1\n",
            "ber값 0.007692307692307693\n",
            "error값 1\n",
            "ber값 0.007407407407407408\n",
            "error값 1\n",
            "ber값 0.007142857142857143\n",
            "error값 1\n",
            "ber값 0.006896551724137931\n",
            "blockerrors값 2\n",
            "error값 2\n",
            "ber값 0.013333333333333334\n",
            "blockerrors값 3\n",
            "error값 3\n",
            "ber값 0.01935483870967742\n",
            "blockerrors값 4\n",
            "error값 5\n",
            "ber값 0.03125\n",
            "error값 5\n",
            "ber값 0.030303030303030304\n",
            "error값 5\n",
            "ber값 0.029411764705882353\n",
            "error값 5\n",
            "ber값 0.02857142857142857\n",
            "error값 5\n",
            "ber값 0.027777777777777776\n",
            "error값 5\n",
            "ber값 0.02702702702702703\n",
            "error값 5\n",
            "ber값 0.02631578947368421\n",
            "error값 5\n",
            "ber값 0.02564102564102564\n",
            "error값 5\n",
            "ber값 0.025\n",
            "error값 5\n",
            "ber값 0.024390243902439025\n",
            "error값 5\n",
            "ber값 0.023809523809523808\n",
            "error값 5\n",
            "ber값 0.023255813953488372\n",
            "error값 5\n",
            "ber값 0.022727272727272728\n",
            "error값 5\n",
            "ber값 0.022222222222222223\n",
            "error값 5\n",
            "ber값 0.021739130434782608\n",
            "blockerrors값 5\n",
            "error값 8\n",
            "ber값 0.03404255319148936\n",
            "error값 8\n",
            "ber값 0.03333333333333333\n",
            "error값 8\n",
            "ber값 0.0326530612244898\n",
            "error값 8\n",
            "ber값 0.032\n",
            "error값 8\n",
            "ber값 0.03137254901960784\n",
            "error값 8\n",
            "ber값 0.03076923076923077\n",
            "blockerrors값 6\n",
            "error값 10\n",
            "ber값 0.03773584905660377\n",
            "blockerrors값 7\n",
            "error값 11\n",
            "ber값 0.040740740740740744\n",
            "error값 11\n",
            "ber값 0.04\n",
            "error값 11\n",
            "ber값 0.039285714285714285\n",
            "error값 11\n",
            "ber값 0.03859649122807018\n",
            "blockerrors값 8\n",
            "error값 14\n",
            "ber값 0.04827586206896552\n",
            "error값 14\n",
            "ber값 0.04745762711864407\n",
            "error값 14\n",
            "ber값 0.04666666666666667\n",
            "error값 14\n",
            "ber값 0.04590163934426229\n",
            "error값 14\n",
            "ber값 0.04516129032258064\n",
            "error값 14\n",
            "ber값 0.044444444444444446\n",
            "error값 14\n",
            "ber값 0.04375\n",
            "error값 14\n",
            "ber값 0.043076923076923075\n",
            "error값 14\n",
            "ber값 0.04242424242424243\n",
            "error값 14\n",
            "ber값 0.041791044776119404\n",
            "error값 14\n",
            "ber값 0.041176470588235294\n",
            "error값 14\n",
            "ber값 0.04057971014492753\n",
            "error값 14\n",
            "ber값 0.04\n",
            "error값 14\n",
            "ber값 0.03943661971830986\n",
            "error값 14\n",
            "ber값 0.03888888888888889\n",
            "blockerrors값 9\n",
            "error값 16\n",
            "ber값 0.043835616438356165\n",
            "error값 16\n",
            "ber값 0.043243243243243246\n",
            "error값 16\n",
            "ber값 0.042666666666666665\n",
            "error값 16\n",
            "ber값 0.042105263157894736\n",
            "error값 16\n",
            "ber값 0.04155844155844156\n",
            "error값 16\n",
            "ber값 0.041025641025641026\n",
            "error값 16\n",
            "ber값 0.04050632911392405\n",
            "error값 16\n",
            "ber값 0.04\n",
            "blockerrors값 10\n",
            "error값 17\n",
            "ber값 0.04197530864197531\n",
            "error값 0\n",
            "ber값 0.0\n",
            "error값 0\n",
            "ber값 0.0\n",
            "error값 0\n",
            "ber값 0.0\n",
            "error값 0\n",
            "ber값 0.0\n",
            "error값 0\n",
            "ber값 0.0\n",
            "error값 0\n",
            "ber값 0.0\n",
            "error값 0\n",
            "ber값 0.0\n",
            "error값 0\n",
            "ber값 0.0\n",
            "error값 0\n",
            "ber값 0.0\n",
            "error값 0\n",
            "ber값 0.0\n",
            "error값 0\n",
            "ber값 0.0\n",
            "error값 0\n",
            "ber값 0.0\n",
            "error값 0\n",
            "ber값 0.0\n",
            "error값 0\n",
            "ber값 0.0\n",
            "error값 0\n",
            "ber값 0.0\n",
            "error값 0\n",
            "ber값 0.0\n",
            "error값 0\n",
            "ber값 0.0\n",
            "error값 0\n",
            "ber값 0.0\n",
            "error값 0\n",
            "ber값 0.0\n",
            "error값 0\n",
            "ber값 0.0\n",
            "error값 0\n",
            "ber값 0.0\n",
            "error값 0\n",
            "ber값 0.0\n",
            "error값 0\n",
            "ber값 0.0\n",
            "error값 0\n",
            "ber값 0.0\n",
            "error값 0\n",
            "ber값 0.0\n",
            "error값 0\n",
            "ber값 0.0\n",
            "error값 0\n",
            "ber값 0.0\n",
            "error값 0\n",
            "ber값 0.0\n",
            "blockerrors값 1\n",
            "error값 3\n",
            "ber값 0.020689655172413793\n",
            "error값 3\n",
            "ber값 0.02\n",
            "error값 3\n",
            "ber값 0.01935483870967742\n",
            "error값 3\n",
            "ber값 0.01875\n",
            "error값 3\n",
            "ber값 0.01818181818181818\n",
            "error값 3\n",
            "ber값 0.01764705882352941\n",
            "error값 3\n",
            "ber값 0.017142857142857144\n",
            "error값 3\n",
            "ber값 0.016666666666666666\n",
            "error값 3\n",
            "ber값 0.016216216216216217\n",
            "error값 3\n",
            "ber값 0.015789473684210527\n",
            "error값 3\n",
            "ber값 0.015384615384615385\n",
            "error값 3\n",
            "ber값 0.015\n",
            "error값 3\n",
            "ber값 0.014634146341463415\n",
            "error값 3\n",
            "ber값 0.014285714285714285\n",
            "error값 3\n",
            "ber값 0.013953488372093023\n",
            "error값 3\n",
            "ber값 0.013636363636363636\n",
            "error값 3\n",
            "ber값 0.013333333333333334\n",
            "error값 3\n",
            "ber값 0.013043478260869565\n",
            "error값 3\n",
            "ber값 0.01276595744680851\n",
            "error값 3\n",
            "ber값 0.0125\n",
            "error값 3\n",
            "ber값 0.012244897959183673\n",
            "error값 3\n",
            "ber값 0.012\n",
            "error값 3\n",
            "ber값 0.011764705882352941\n",
            "error값 3\n",
            "ber값 0.011538461538461539\n",
            "error값 3\n",
            "ber값 0.011320754716981131\n",
            "error값 3\n",
            "ber값 0.011111111111111112\n",
            "error값 3\n",
            "ber값 0.01090909090909091\n",
            "error값 3\n",
            "ber값 0.010714285714285714\n",
            "error값 3\n",
            "ber값 0.010526315789473684\n",
            "error값 3\n",
            "ber값 0.010344827586206896\n",
            "error값 3\n",
            "ber값 0.010169491525423728\n",
            "error값 3\n",
            "ber값 0.01\n",
            "error값 3\n",
            "ber값 0.009836065573770493\n",
            "error값 3\n",
            "ber값 0.00967741935483871\n",
            "error값 3\n",
            "ber값 0.009523809523809525\n",
            "blockerrors값 2\n",
            "error값 5\n",
            "ber값 0.015625\n",
            "error값 5\n",
            "ber값 0.015384615384615385\n",
            "error값 5\n",
            "ber값 0.015151515151515152\n",
            "error값 5\n",
            "ber값 0.014925373134328358\n",
            "error값 5\n",
            "ber값 0.014705882352941176\n",
            "error값 5\n",
            "ber값 0.014492753623188406\n",
            "error값 5\n",
            "ber값 0.014285714285714285\n",
            "error값 5\n",
            "ber값 0.014084507042253521\n",
            "error값 5\n",
            "ber값 0.013888888888888888\n",
            "error값 5\n",
            "ber값 0.0136986301369863\n",
            "error값 5\n",
            "ber값 0.013513513513513514\n",
            "error값 5\n",
            "ber값 0.013333333333333334\n",
            "error값 5\n",
            "ber값 0.013157894736842105\n",
            "error값 5\n",
            "ber값 0.012987012987012988\n",
            "error값 5\n",
            "ber값 0.01282051282051282\n",
            "blockerrors값 3\n",
            "error값 6\n",
            "ber값 0.015189873417721518\n",
            "error값 6\n",
            "ber값 0.015\n",
            "error값 6\n",
            "ber값 0.014814814814814815\n",
            "error값 6\n",
            "ber값 0.014634146341463415\n",
            "error값 6\n",
            "ber값 0.014457831325301205\n",
            "error값 6\n",
            "ber값 0.014285714285714285\n",
            "error값 6\n",
            "ber값 0.01411764705882353\n",
            "error값 6\n",
            "ber값 0.013953488372093023\n",
            "error값 6\n",
            "ber값 0.013793103448275862\n",
            "error값 6\n",
            "ber값 0.013636363636363636\n",
            "error값 6\n",
            "ber값 0.01348314606741573\n",
            "error값 6\n",
            "ber값 0.013333333333333334\n",
            "error값 6\n",
            "ber값 0.013186813186813187\n",
            "error값 6\n",
            "ber값 0.013043478260869565\n",
            "error값 6\n",
            "ber값 0.012903225806451613\n",
            "error값 6\n",
            "ber값 0.01276595744680851\n",
            "error값 6\n",
            "ber값 0.01263157894736842\n",
            "error값 6\n",
            "ber값 0.0125\n",
            "error값 6\n",
            "ber값 0.012371134020618556\n",
            "error값 6\n",
            "ber값 0.012244897959183673\n",
            "error값 6\n",
            "ber값 0.012121212121212121\n",
            "blockerrors값 4\n",
            "error값 7\n",
            "ber값 0.014\n",
            "error값 7\n",
            "ber값 0.013861386138613862\n",
            "blockerrors값 5\n",
            "error값 10\n",
            "ber값 0.0196078431372549\n",
            "error값 10\n",
            "ber값 0.019417475728155338\n",
            "error값 10\n",
            "ber값 0.019230769230769232\n",
            "error값 10\n",
            "ber값 0.01904761904761905\n",
            "error값 10\n",
            "ber값 0.018867924528301886\n",
            "error값 10\n",
            "ber값 0.018691588785046728\n",
            "error값 10\n",
            "ber값 0.018518518518518517\n",
            "error값 10\n",
            "ber값 0.01834862385321101\n",
            "blockerrors값 6\n",
            "error값 12\n",
            "ber값 0.02181818181818182\n",
            "error값 12\n",
            "ber값 0.021621621621621623\n",
            "error값 12\n",
            "ber값 0.02142857142857143\n",
            "error값 12\n",
            "ber값 0.021238938053097345\n",
            "error값 12\n",
            "ber값 0.021052631578947368\n",
            "error값 12\n",
            "ber값 0.020869565217391306\n",
            "error값 12\n",
            "ber값 0.020689655172413793\n",
            "error값 12\n",
            "ber값 0.020512820512820513\n",
            "error값 12\n",
            "ber값 0.020338983050847456\n",
            "error값 12\n",
            "ber값 0.020168067226890758\n",
            "error값 12\n",
            "ber값 0.02\n",
            "error값 12\n",
            "ber값 0.019834710743801654\n",
            "error값 12\n",
            "ber값 0.019672131147540985\n",
            "error값 12\n",
            "ber값 0.01951219512195122\n",
            "blockerrors값 7\n",
            "error값 14\n",
            "ber값 0.02258064516129032\n",
            "error값 14\n",
            "ber값 0.0224\n",
            "error값 14\n",
            "ber값 0.022222222222222223\n",
            "error값 14\n",
            "ber값 0.02204724409448819\n",
            "error값 14\n",
            "ber값 0.021875\n",
            "blockerrors값 8\n",
            "error값 15\n",
            "ber값 0.023255813953488372\n",
            "error값 15\n",
            "ber값 0.023076923076923078\n",
            "error값 15\n",
            "ber값 0.022900763358778626\n",
            "error값 15\n",
            "ber값 0.022727272727272728\n",
            "error값 15\n",
            "ber값 0.022556390977443608\n",
            "error값 15\n",
            "ber값 0.022388059701492536\n",
            "blockerrors값 9\n",
            "error값 17\n",
            "ber값 0.025185185185185185\n",
            "error값 17\n",
            "ber값 0.025\n",
            "error값 17\n",
            "ber값 0.024817518248175182\n",
            "error값 17\n",
            "ber값 0.02463768115942029\n",
            "error값 17\n",
            "ber값 0.02446043165467626\n",
            "error값 17\n",
            "ber값 0.024285714285714285\n",
            "error값 17\n",
            "ber값 0.024113475177304965\n",
            "blockerrors값 10\n",
            "error값 18\n",
            "ber값 0.02535211267605634\n",
            "error값 0\n",
            "ber값 0.0\n",
            "error값 0\n",
            "ber값 0.0\n",
            "error값 0\n",
            "ber값 0.0\n",
            "error값 0\n",
            "ber값 0.0\n",
            "blockerrors값 1\n",
            "error값 3\n",
            "ber값 0.12\n",
            "error값 3\n",
            "ber값 0.1\n",
            "error값 3\n",
            "ber값 0.08571428571428572\n",
            "error값 3\n",
            "ber값 0.075\n",
            "error값 3\n",
            "ber값 0.06666666666666667\n",
            "error값 3\n",
            "ber값 0.06\n",
            "error값 3\n",
            "ber값 0.05454545454545454\n",
            "error값 3\n",
            "ber값 0.05\n",
            "error값 3\n",
            "ber값 0.046153846153846156\n",
            "error값 3\n",
            "ber값 0.04285714285714286\n",
            "error값 3\n",
            "ber값 0.04\n",
            "blockerrors값 2\n",
            "error값 5\n",
            "ber값 0.0625\n",
            "error값 5\n",
            "ber값 0.058823529411764705\n",
            "error값 5\n",
            "ber값 0.05555555555555555\n",
            "error값 5\n",
            "ber값 0.05263157894736842\n",
            "error값 5\n",
            "ber값 0.05\n",
            "error값 5\n",
            "ber값 0.047619047619047616\n",
            "error값 5\n",
            "ber값 0.045454545454545456\n",
            "error값 5\n",
            "ber값 0.043478260869565216\n",
            "error값 5\n",
            "ber값 0.041666666666666664\n",
            "error값 5\n",
            "ber값 0.04\n",
            "error값 5\n",
            "ber값 0.038461538461538464\n",
            "blockerrors값 3\n",
            "error값 6\n",
            "ber값 0.044444444444444446\n",
            "error값 6\n",
            "ber값 0.04285714285714286\n",
            "blockerrors값 4\n",
            "error값 7\n",
            "ber값 0.04827586206896552\n",
            "error값 7\n",
            "ber값 0.04666666666666667\n",
            "error값 7\n",
            "ber값 0.04516129032258064\n",
            "error값 7\n",
            "ber값 0.04375\n",
            "error값 7\n",
            "ber값 0.04242424242424243\n",
            "error값 7\n",
            "ber값 0.041176470588235294\n",
            "error값 7\n",
            "ber값 0.04\n",
            "error값 7\n",
            "ber값 0.03888888888888889\n",
            "error값 7\n",
            "ber값 0.03783783783783784\n",
            "error값 7\n",
            "ber값 0.03684210526315789\n",
            "error값 7\n",
            "ber값 0.035897435897435895\n",
            "error값 7\n",
            "ber값 0.035\n",
            "error값 7\n",
            "ber값 0.03414634146341464\n",
            "error값 7\n",
            "ber값 0.03333333333333333\n",
            "error값 7\n",
            "ber값 0.03255813953488372\n",
            "error값 7\n",
            "ber값 0.031818181818181815\n",
            "error값 7\n",
            "ber값 0.03111111111111111\n",
            "error값 7\n",
            "ber값 0.030434782608695653\n",
            "error값 7\n",
            "ber값 0.029787234042553193\n",
            "error값 7\n",
            "ber값 0.029166666666666667\n",
            "error값 7\n",
            "ber값 0.02857142857142857\n",
            "error값 7\n",
            "ber값 0.028\n",
            "error값 7\n",
            "ber값 0.027450980392156862\n",
            "error값 7\n",
            "ber값 0.026923076923076925\n",
            "error값 7\n",
            "ber값 0.026415094339622643\n",
            "error값 7\n",
            "ber값 0.025925925925925925\n",
            "blockerrors값 5\n",
            "error값 9\n",
            "ber값 0.03272727272727273\n",
            "error값 9\n",
            "ber값 0.03214285714285714\n",
            "blockerrors값 6\n",
            "error값 10\n",
            "ber값 0.03508771929824561\n",
            "error값 10\n",
            "ber값 0.034482758620689655\n",
            "error값 10\n",
            "ber값 0.03389830508474576\n",
            "error값 10\n",
            "ber값 0.03333333333333333\n",
            "error값 10\n",
            "ber값 0.03278688524590164\n",
            "error값 10\n",
            "ber값 0.03225806451612903\n",
            "error값 10\n",
            "ber값 0.031746031746031744\n",
            "blockerrors값 7\n",
            "error값 12\n",
            "ber값 0.0375\n",
            "error값 12\n",
            "ber값 0.036923076923076927\n",
            "error값 12\n",
            "ber값 0.03636363636363636\n",
            "error값 12\n",
            "ber값 0.03582089552238806\n",
            "error값 12\n",
            "ber값 0.03529411764705882\n",
            "error값 12\n",
            "ber값 0.034782608695652174\n",
            "blockerrors값 8\n",
            "error값 13\n",
            "ber값 0.037142857142857144\n",
            "error값 13\n",
            "ber값 0.036619718309859155\n",
            "error값 13\n",
            "ber값 0.03611111111111111\n",
            "error값 13\n",
            "ber값 0.03561643835616438\n",
            "error값 13\n",
            "ber값 0.03513513513513514\n",
            "error값 13\n",
            "ber값 0.034666666666666665\n",
            "error값 13\n",
            "ber값 0.034210526315789476\n",
            "error값 13\n",
            "ber값 0.033766233766233764\n",
            "blockerrors값 9\n",
            "error값 14\n",
            "ber값 0.035897435897435895\n",
            "error값 14\n",
            "ber값 0.035443037974683546\n",
            "error값 14\n",
            "ber값 0.035\n",
            "error값 14\n",
            "ber값 0.0345679012345679\n",
            "error값 14\n",
            "ber값 0.03414634146341464\n",
            "error값 14\n",
            "ber값 0.033734939759036145\n",
            "error값 14\n",
            "ber값 0.03333333333333333\n",
            "blockerrors값 10\n",
            "error값 15\n",
            "ber값 0.03529411764705882\n",
            "error값 0\n",
            "ber값 0.0\n",
            "error값 0\n",
            "ber값 0.0\n",
            "blockerrors값 1\n",
            "error값 2\n",
            "ber값 0.13333333333333333\n",
            "error값 2\n",
            "ber값 0.1\n",
            "error값 2\n",
            "ber값 0.08\n",
            "error값 2\n",
            "ber값 0.06666666666666667\n",
            "error값 2\n",
            "ber값 0.05714285714285714\n",
            "blockerrors값 2\n",
            "error값 4\n",
            "ber값 0.1\n",
            "error값 4\n",
            "ber값 0.08888888888888889\n",
            "error값 4\n",
            "ber값 0.08\n",
            "error값 4\n",
            "ber값 0.07272727272727272\n",
            "error값 4\n",
            "ber값 0.06666666666666667\n",
            "error값 4\n",
            "ber값 0.06153846153846154\n",
            "error값 4\n",
            "ber값 0.05714285714285714\n",
            "error값 4\n",
            "ber값 0.05333333333333334\n",
            "error값 4\n",
            "ber값 0.05\n",
            "error값 4\n",
            "ber값 0.047058823529411764\n",
            "blockerrors값 3\n",
            "error값 5\n",
            "ber값 0.05555555555555555\n",
            "error값 5\n",
            "ber값 0.05263157894736842\n",
            "error값 5\n",
            "ber값 0.05\n",
            "error값 5\n",
            "ber값 0.047619047619047616\n",
            "error값 5\n",
            "ber값 0.045454545454545456\n",
            "error값 5\n",
            "ber값 0.043478260869565216\n",
            "error값 5\n",
            "ber값 0.041666666666666664\n",
            "error값 5\n",
            "ber값 0.04\n",
            "error값 5\n",
            "ber값 0.038461538461538464\n",
            "error값 5\n",
            "ber값 0.037037037037037035\n",
            "error값 5\n",
            "ber값 0.03571428571428571\n",
            "error값 5\n",
            "ber값 0.034482758620689655\n",
            "blockerrors값 4\n",
            "error값 6\n",
            "ber값 0.04\n",
            "error값 6\n",
            "ber값 0.03870967741935484\n",
            "error값 6\n",
            "ber값 0.0375\n",
            "error값 6\n",
            "ber값 0.03636363636363636\n",
            "error값 6\n",
            "ber값 0.03529411764705882\n",
            "error값 6\n",
            "ber값 0.03428571428571429\n",
            "error값 6\n",
            "ber값 0.03333333333333333\n",
            "blockerrors값 5\n",
            "error값 8\n",
            "ber값 0.043243243243243246\n",
            "error값 8\n",
            "ber값 0.042105263157894736\n",
            "error값 8\n",
            "ber값 0.041025641025641026\n",
            "error값 8\n",
            "ber값 0.04\n",
            "error값 8\n",
            "ber값 0.03902439024390244\n",
            "error값 8\n",
            "ber값 0.0380952380952381\n",
            "error값 8\n",
            "ber값 0.037209302325581395\n",
            "error값 8\n",
            "ber값 0.03636363636363636\n",
            "error값 8\n",
            "ber값 0.035555555555555556\n",
            "error값 8\n",
            "ber값 0.034782608695652174\n",
            "error값 8\n",
            "ber값 0.03404255319148936\n",
            "error값 8\n",
            "ber값 0.03333333333333333\n",
            "error값 8\n",
            "ber값 0.0326530612244898\n",
            "error값 8\n",
            "ber값 0.032\n",
            "error값 8\n",
            "ber값 0.03137254901960784\n",
            "error값 8\n",
            "ber값 0.03076923076923077\n",
            "error값 8\n",
            "ber값 0.03018867924528302\n",
            "error값 8\n",
            "ber값 0.02962962962962963\n",
            "error값 8\n",
            "ber값 0.02909090909090909\n",
            "error값 8\n",
            "ber값 0.02857142857142857\n",
            "error값 8\n",
            "ber값 0.028070175438596492\n",
            "error값 8\n",
            "ber값 0.027586206896551724\n",
            "error값 8\n",
            "ber값 0.02711864406779661\n",
            "error값 8\n",
            "ber값 0.02666666666666667\n",
            "error값 8\n",
            "ber값 0.02622950819672131\n",
            "error값 8\n",
            "ber값 0.025806451612903226\n",
            "error값 8\n",
            "ber값 0.025396825396825397\n",
            "error값 8\n",
            "ber값 0.025\n",
            "error값 8\n",
            "ber값 0.024615384615384615\n",
            "error값 8\n",
            "ber값 0.024242424242424242\n",
            "error값 8\n",
            "ber값 0.023880597014925373\n",
            "error값 8\n",
            "ber값 0.023529411764705882\n",
            "error값 8\n",
            "ber값 0.02318840579710145\n",
            "error값 8\n",
            "ber값 0.022857142857142857\n",
            "error값 8\n",
            "ber값 0.022535211267605635\n",
            "error값 8\n",
            "ber값 0.022222222222222223\n",
            "error값 8\n",
            "ber값 0.021917808219178082\n",
            "error값 8\n",
            "ber값 0.021621621621621623\n",
            "error값 8\n",
            "ber값 0.021333333333333333\n",
            "error값 8\n",
            "ber값 0.021052631578947368\n",
            "error값 8\n",
            "ber값 0.02077922077922078\n",
            "error값 8\n",
            "ber값 0.020512820512820513\n",
            "error값 8\n",
            "ber값 0.020253164556962026\n",
            "error값 8\n",
            "ber값 0.02\n",
            "error값 8\n",
            "ber값 0.019753086419753086\n",
            "error값 8\n",
            "ber값 0.01951219512195122\n",
            "error값 8\n",
            "ber값 0.01927710843373494\n",
            "error값 8\n",
            "ber값 0.01904761904761905\n",
            "error값 8\n",
            "ber값 0.018823529411764704\n",
            "error값 8\n",
            "ber값 0.018604651162790697\n",
            "error값 8\n",
            "ber값 0.01839080459770115\n",
            "error값 8\n",
            "ber값 0.01818181818181818\n",
            "error값 8\n",
            "ber값 0.017977528089887642\n",
            "error값 8\n",
            "ber값 0.017777777777777778\n",
            "error값 8\n",
            "ber값 0.017582417582417582\n",
            "error값 8\n",
            "ber값 0.017391304347826087\n",
            "error값 8\n",
            "ber값 0.017204301075268817\n",
            "error값 8\n",
            "ber값 0.01702127659574468\n",
            "error값 8\n",
            "ber값 0.016842105263157894\n",
            "error값 8\n",
            "ber값 0.016666666666666666\n",
            "error값 8\n",
            "ber값 0.016494845360824743\n",
            "error값 8\n",
            "ber값 0.0163265306122449\n",
            "error값 8\n",
            "ber값 0.01616161616161616\n",
            "error값 8\n",
            "ber값 0.016\n",
            "error값 8\n",
            "ber값 0.015841584158415842\n",
            "blockerrors값 6\n",
            "error값 9\n",
            "ber값 0.01764705882352941\n",
            "error값 9\n",
            "ber값 0.017475728155339806\n",
            "blockerrors값 7\n",
            "error값 12\n",
            "ber값 0.023076923076923078\n",
            "blockerrors값 8\n",
            "error값 13\n",
            "ber값 0.024761904761904763\n",
            "error값 13\n",
            "ber값 0.024528301886792454\n",
            "error값 13\n",
            "ber값 0.024299065420560748\n",
            "error값 13\n",
            "ber값 0.024074074074074074\n",
            "error값 13\n",
            "ber값 0.023853211009174313\n",
            "error값 13\n",
            "ber값 0.023636363636363636\n",
            "error값 13\n",
            "ber값 0.023423423423423424\n",
            "error값 13\n",
            "ber값 0.023214285714285715\n",
            "error값 13\n",
            "ber값 0.023008849557522124\n",
            "error값 13\n",
            "ber값 0.02280701754385965\n",
            "error값 13\n",
            "ber값 0.022608695652173914\n",
            "error값 13\n",
            "ber값 0.022413793103448276\n",
            "error값 13\n",
            "ber값 0.022222222222222223\n",
            "error값 13\n",
            "ber값 0.022033898305084745\n",
            "error값 13\n",
            "ber값 0.021848739495798318\n",
            "error값 13\n",
            "ber값 0.021666666666666667\n",
            "blockerrors값 9\n",
            "error값 14\n",
            "ber값 0.023140495867768594\n",
            "error값 14\n",
            "ber값 0.022950819672131147\n",
            "error값 14\n",
            "ber값 0.022764227642276424\n",
            "error값 14\n",
            "ber값 0.02258064516129032\n",
            "error값 14\n",
            "ber값 0.0224\n",
            "error값 14\n",
            "ber값 0.022222222222222223\n",
            "error값 14\n",
            "ber값 0.02204724409448819\n",
            "error값 14\n",
            "ber값 0.021875\n",
            "error값 14\n",
            "ber값 0.021705426356589147\n",
            "error값 14\n",
            "ber값 0.021538461538461538\n",
            "error값 14\n",
            "ber값 0.021374045801526718\n",
            "error값 14\n",
            "ber값 0.021212121212121213\n",
            "error값 14\n",
            "ber값 0.021052631578947368\n",
            "error값 14\n",
            "ber값 0.020895522388059702\n",
            "error값 14\n",
            "ber값 0.02074074074074074\n",
            "error값 14\n",
            "ber값 0.020588235294117647\n",
            "error값 14\n",
            "ber값 0.020437956204379562\n",
            "blockerrors값 10\n",
            "error값 16\n",
            "ber값 0.02318840579710145\n",
            "error값 0\n",
            "ber값 0.0\n",
            "error값 0\n",
            "ber값 0.0\n",
            "error값 0\n",
            "ber값 0.0\n",
            "error값 0\n",
            "ber값 0.0\n",
            "error값 0\n",
            "ber값 0.0\n",
            "error값 0\n",
            "ber값 0.0\n",
            "error값 0\n",
            "ber값 0.0\n",
            "error값 0\n",
            "ber값 0.0\n",
            "error값 0\n",
            "ber값 0.0\n",
            "error값 0\n",
            "ber값 0.0\n",
            "blockerrors값 1\n",
            "error값 3\n",
            "ber값 0.05454545454545454\n",
            "error값 3\n",
            "ber값 0.05\n",
            "error값 3\n",
            "ber값 0.046153846153846156\n",
            "error값 3\n",
            "ber값 0.04285714285714286\n",
            "blockerrors값 2\n",
            "error값 4\n",
            "ber값 0.05333333333333334\n",
            "error값 4\n",
            "ber값 0.05\n",
            "error값 4\n",
            "ber값 0.047058823529411764\n",
            "error값 4\n",
            "ber값 0.044444444444444446\n",
            "error값 4\n",
            "ber값 0.042105263157894736\n",
            "error값 4\n",
            "ber값 0.04\n",
            "error값 4\n",
            "ber값 0.0380952380952381\n",
            "error값 4\n",
            "ber값 0.03636363636363636\n",
            "blockerrors값 3\n",
            "error값 5\n",
            "ber값 0.043478260869565216\n",
            "error값 5\n",
            "ber값 0.041666666666666664\n",
            "error값 5\n",
            "ber값 0.04\n",
            "error값 5\n",
            "ber값 0.038461538461538464\n",
            "blockerrors값 4\n",
            "error값 7\n",
            "ber값 0.05185185185185185\n",
            "blockerrors값 5\n",
            "error값 9\n",
            "ber값 0.06428571428571428\n",
            "error값 9\n",
            "ber값 0.06206896551724138\n",
            "error값 9\n",
            "ber값 0.06\n",
            "error값 9\n",
            "ber값 0.05806451612903226\n",
            "error값 9\n",
            "ber값 0.05625\n",
            "error값 9\n",
            "ber값 0.05454545454545454\n",
            "error값 9\n",
            "ber값 0.052941176470588235\n",
            "error값 9\n",
            "ber값 0.05142857142857143\n",
            "error값 9\n",
            "ber값 0.05\n",
            "error값 9\n",
            "ber값 0.04864864864864865\n",
            "error값 9\n",
            "ber값 0.04736842105263158\n",
            "error값 9\n",
            "ber값 0.046153846153846156\n",
            "error값 9\n",
            "ber값 0.045\n",
            "error값 9\n",
            "ber값 0.04390243902439024\n",
            "error값 9\n",
            "ber값 0.04285714285714286\n",
            "error값 9\n",
            "ber값 0.04186046511627907\n",
            "error값 9\n",
            "ber값 0.04090909090909091\n",
            "error값 9\n",
            "ber값 0.04\n",
            "error값 9\n",
            "ber값 0.0391304347826087\n",
            "blockerrors값 6\n",
            "error값 13\n",
            "ber값 0.05531914893617021\n",
            "error값 13\n",
            "ber값 0.05416666666666667\n",
            "error값 13\n",
            "ber값 0.053061224489795916\n",
            "error값 13\n",
            "ber값 0.052\n",
            "error값 13\n",
            "ber값 0.050980392156862744\n",
            "error값 13\n",
            "ber값 0.05\n",
            "error값 13\n",
            "ber값 0.04905660377358491\n",
            "error값 13\n",
            "ber값 0.04814814814814815\n",
            "error값 13\n",
            "ber값 0.04727272727272727\n",
            "error값 13\n",
            "ber값 0.04642857142857143\n",
            "blockerrors값 7\n",
            "error값 14\n",
            "ber값 0.04912280701754386\n",
            "error값 14\n",
            "ber값 0.04827586206896552\n",
            "error값 14\n",
            "ber값 0.04745762711864407\n",
            "error값 14\n",
            "ber값 0.04666666666666667\n",
            "error값 14\n",
            "ber값 0.04590163934426229\n",
            "error값 14\n",
            "ber값 0.04516129032258064\n",
            "error값 14\n",
            "ber값 0.044444444444444446\n",
            "error값 14\n",
            "ber값 0.04375\n",
            "blockerrors값 8\n",
            "error값 17\n",
            "ber값 0.052307692307692305\n",
            "error값 17\n",
            "ber값 0.051515151515151514\n",
            "error값 17\n",
            "ber값 0.050746268656716415\n",
            "error값 17\n",
            "ber값 0.05\n",
            "error값 17\n",
            "ber값 0.04927536231884058\n",
            "error값 17\n",
            "ber값 0.04857142857142857\n",
            "error값 17\n",
            "ber값 0.04788732394366197\n",
            "error값 17\n",
            "ber값 0.04722222222222222\n",
            "error값 17\n",
            "ber값 0.04657534246575343\n",
            "error값 17\n",
            "ber값 0.04594594594594595\n",
            "error값 17\n",
            "ber값 0.04533333333333334\n",
            "error값 17\n",
            "ber값 0.04473684210526316\n",
            "error값 17\n",
            "ber값 0.04415584415584416\n",
            "error값 17\n",
            "ber값 0.04358974358974359\n",
            "error값 17\n",
            "ber값 0.043037974683544304\n",
            "error값 17\n",
            "ber값 0.0425\n",
            "error값 17\n",
            "ber값 0.04197530864197531\n",
            "error값 17\n",
            "ber값 0.041463414634146344\n",
            "error값 17\n",
            "ber값 0.04096385542168675\n",
            "error값 17\n",
            "ber값 0.04047619047619048\n",
            "error값 17\n",
            "ber값 0.04\n",
            "error값 17\n",
            "ber값 0.03953488372093023\n",
            "error값 17\n",
            "ber값 0.03908045977011494\n",
            "error값 17\n",
            "ber값 0.038636363636363635\n",
            "error값 17\n",
            "ber값 0.038202247191011236\n",
            "error값 17\n",
            "ber값 0.03777777777777778\n",
            "error값 17\n",
            "ber값 0.03736263736263736\n",
            "error값 17\n",
            "ber값 0.03695652173913044\n",
            "error값 17\n",
            "ber값 0.03655913978494624\n",
            "error값 17\n",
            "ber값 0.036170212765957444\n",
            "error값 17\n",
            "ber값 0.035789473684210524\n",
            "error값 17\n",
            "ber값 0.035416666666666666\n",
            "error값 17\n",
            "ber값 0.03505154639175258\n",
            "error값 17\n",
            "ber값 0.03469387755102041\n",
            "error값 17\n",
            "ber값 0.03434343434343434\n",
            "error값 17\n",
            "ber값 0.034\n",
            "error값 17\n",
            "ber값 0.033663366336633666\n",
            "error값 17\n",
            "ber값 0.03333333333333333\n",
            "error값 17\n",
            "ber값 0.03300970873786408\n",
            "error값 17\n",
            "ber값 0.032692307692307694\n",
            "error값 17\n",
            "ber값 0.03238095238095238\n",
            "error값 17\n",
            "ber값 0.03207547169811321\n",
            "error값 17\n",
            "ber값 0.03177570093457944\n",
            "blockerrors값 9\n",
            "error값 18\n",
            "ber값 0.03333333333333333\n",
            "error값 18\n",
            "ber값 0.03302752293577982\n",
            "error값 18\n",
            "ber값 0.03272727272727273\n",
            "error값 18\n",
            "ber값 0.032432432432432434\n",
            "error값 18\n",
            "ber값 0.03214285714285714\n",
            "error값 18\n",
            "ber값 0.03185840707964602\n",
            "blockerrors값 10\n",
            "error값 19\n",
            "ber값 0.03333333333333333\n"
          ]
        }
      ]
    },
    {
      "cell_type": "code",
      "source": [
        "BER"
      ],
      "metadata": {
        "id": "LeAQeaUMA3Lg",
        "outputId": "b3a09e86-e337-44da-a8be-2f8e7a5cb755",
        "colab": {
          "base_uri": "https://localhost:8080/"
        }
      },
      "execution_count": null,
      "outputs": [
        {
          "output_type": "execute_result",
          "data": {
            "text/plain": [
              "array([[0.068     , 0.0952381 , 0.06181818, 0.03939394, 0.07692308,\n",
              "        0.05925926, 0.04197531, 0.02535211, 0.03529412, 0.02318841,\n",
              "        0.03333333]])"
            ]
          },
          "metadata": {},
          "execution_count": 401
        }
      ]
    },
    {
      "cell_type": "code",
      "source": [
        "dB"
      ],
      "metadata": {
        "id": "icbN8GrvCjoO",
        "outputId": "25849c96-a9b0-45b6-90fc-de2b340101f2",
        "colab": {
          "base_uri": "https://localhost:8080/"
        }
      },
      "execution_count": null,
      "outputs": [
        {
          "output_type": "execute_result",
          "data": {
            "text/plain": [
              "array([0.  , 0.25, 0.5 , 0.75, 1.  , 1.25, 1.5 , 1.75, 2.  , 2.25, 2.5 ])"
            ]
          },
          "metadata": {},
          "execution_count": 402
        }
      ]
    },
    {
      "cell_type": "code",
      "source": [
        "import matplotlib.pyplot as plt\n",
        "BER=[0.068     , 0.0952381 , 0.06181818, 0.03939394, 0.07692308,\n",
        "        0.05925926, 0.04197531, 0.02535211, 0.03529412, 0.02318841,\n",
        "        0.03333333]\n",
        "print('BER값 \\n',BER)\n",
        "dB=[0.  , 0.25, 0.5 , 0.75, 1.  , 1.25, 1.5 , 1.75, 2.  , 2.25, 2.5]\n",
        "print('dB값 \\n',dB)\n",
        "plt.semilogy(dB,BER)"
      ],
      "metadata": {
        "id": "W_VZKJJMA5CN",
        "outputId": "f0b77d3c-de40-41e3-86ef-2b0c398b593e",
        "colab": {
          "base_uri": "https://localhost:8080/",
          "height": 359
        }
      },
      "execution_count": null,
      "outputs": [
        {
          "output_type": "stream",
          "name": "stdout",
          "text": [
            "BER값 \n",
            " [0.068, 0.0952381, 0.06181818, 0.03939394, 0.07692308, 0.05925926, 0.04197531, 0.02535211, 0.03529412, 0.02318841, 0.03333333]\n",
            "dB값 \n",
            " [0.0, 0.25, 0.5, 0.75, 1.0, 1.25, 1.5, 1.75, 2.0, 2.25, 2.5]\n"
          ]
        },
        {
          "output_type": "execute_result",
          "data": {
            "text/plain": [
              "[<matplotlib.lines.Line2D at 0x7f806454f110>]"
            ]
          },
          "metadata": {},
          "execution_count": 404
        },
        {
          "output_type": "display_data",
          "data": {
            "text/plain": [
              "<Figure size 432x288 with 1 Axes>"
            ],
            "image/png": "[encoded data removed]"
          },
          "metadata": {
            "needs_background": "light"
          }
        }
      ]
    },
    {
      "cell_type": "markdown",
      "source": [
        "\\"
      ],
      "metadata": {
        "id": "lElq7HOfLrSX"
      }
    }
  ]
}